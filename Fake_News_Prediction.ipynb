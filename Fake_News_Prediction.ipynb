{
  "nbformat": 4,
  "nbformat_minor": 0,
  "metadata": {
    "colab": {
      "provenance": [],
      "toc_visible": true
    },
    "kernelspec": {
      "name": "python3",
      "display_name": "Python 3"
    },
    "language_info": {
      "name": "python"
    }
  },
  "cells": [
    {
      "cell_type": "markdown",
      "source": [
        "# 1. Work Flow"
      ],
      "metadata": {
        "id": "IlT4PAlZdWrH"
      }
    },
    {
      "cell_type": "markdown",
      "source": [
        "# 2. About Our Data.\n",
        "1. **id**: Unique ID for a news article.\n",
        "2. **title**: The title of a news article.\n",
        "3. **author**: Author of the news article.\n",
        "4. **text**: The text of the article; could be incomplete.\n",
        "5. **label**: A label that marks whether the news article is real or fake.\n",
        "\n",
        "\n",
        "1: Fake News.\n",
        "\n",
        "0: Real News."
      ],
      "metadata": {
        "id": "IwIE2QuYnT2U"
      }
    },
    {
      "cell_type": "markdown",
      "source": [
        "# 3. Importing Dependencies"
      ],
      "metadata": {
        "id": "CszIW4OJoJIM"
      }
    },
    {
      "cell_type": "code",
      "source": [
        "import numpy as np   # Import NumPy for numerical operations (arrays, matrices, math functions)\n",
        "import pandas as pd  # Import pandas for data manipulation and handling datasets (DataFrame, CSV, etc.)\n",
        "import re            # Import regex library for text preprocessing (cleaning special characters, patterns)\n",
        "\n",
        "from nltk.corpus import stopwords  # Import list of common stopwords (e.g., \"the\", \"is\", \"and\") to remove from text\n",
        "from nltk.stem.porter import PorterStemmer  # Import PorterStemmer to reduce words to their root form (stemming)\n",
        "\n",
        "from sklearn.feature_extraction.text import TfidfVectorizer  # Convert text into numerical features using TF-IDF\n",
        "from sklearn.model_selection import train_test_split         # Split dataset into training and testing sets\n",
        "from sklearn.linear_model import LogisticRegression          # Import Logistic Regression model for classification\n",
        "from sklearn.metrics import accuracy_score                   # Calculate accuracy of the model"
      ],
      "metadata": {
        "id": "yOegQTbzx4Zt"
      },
      "execution_count": null,
      "outputs": []
    },
    {
      "cell_type": "code",
      "source": [
        "import nltk\n",
        "nltk.download('stopwords')"
      ],
      "metadata": {
        "colab": {
          "base_uri": "https://localhost:8080/"
        },
        "id": "CKQJwg_mz3Tc",
        "outputId": "0cdedbca-ce27-40f3-d784-76e52d30e6ed"
      },
      "execution_count": null,
      "outputs": [
        {
          "output_type": "stream",
          "name": "stderr",
          "text": [
            "[nltk_data] Downloading package stopwords to /root/nltk_data...\n",
            "[nltk_data]   Package stopwords is already up-to-date!\n"
          ]
        },
        {
          "output_type": "execute_result",
          "data": {
            "text/plain": [
              "True"
            ]
          },
          "metadata": {},
          "execution_count": 2
        }
      ]
    },
    {
      "cell_type": "code",
      "source": [
        "# Printing the stopwords in English\n",
        "print(stopwords.words('english'))"
      ],
      "metadata": {
        "colab": {
          "base_uri": "https://localhost:8080/"
        },
        "id": "XROcNKoV0R48",
        "outputId": "e8d48b88-3b56-4792-dc17-9a7d0948ca61"
      },
      "execution_count": null,
      "outputs": [
        {
          "output_type": "stream",
          "name": "stdout",
          "text": [
            "['a', 'about', 'above', 'after', 'again', 'against', 'ain', 'all', 'am', 'an', 'and', 'any', 'are', 'aren', \"aren't\", 'as', 'at', 'be', 'because', 'been', 'before', 'being', 'below', 'between', 'both', 'but', 'by', 'can', 'couldn', \"couldn't\", 'd', 'did', 'didn', \"didn't\", 'do', 'does', 'doesn', \"doesn't\", 'doing', 'don', \"don't\", 'down', 'during', 'each', 'few', 'for', 'from', 'further', 'had', 'hadn', \"hadn't\", 'has', 'hasn', \"hasn't\", 'have', 'haven', \"haven't\", 'having', 'he', \"he'd\", \"he'll\", 'her', 'here', 'hers', 'herself', \"he's\", 'him', 'himself', 'his', 'how', 'i', \"i'd\", 'if', \"i'll\", \"i'm\", 'in', 'into', 'is', 'isn', \"isn't\", 'it', \"it'd\", \"it'll\", \"it's\", 'its', 'itself', \"i've\", 'just', 'll', 'm', 'ma', 'me', 'mightn', \"mightn't\", 'more', 'most', 'mustn', \"mustn't\", 'my', 'myself', 'needn', \"needn't\", 'no', 'nor', 'not', 'now', 'o', 'of', 'off', 'on', 'once', 'only', 'or', 'other', 'our', 'ours', 'ourselves', 'out', 'over', 'own', 're', 's', 'same', 'shan', \"shan't\", 'she', \"she'd\", \"she'll\", \"she's\", 'should', 'shouldn', \"shouldn't\", \"should've\", 'so', 'some', 'such', 't', 'than', 'that', \"that'll\", 'the', 'their', 'theirs', 'them', 'themselves', 'then', 'there', 'these', 'they', \"they'd\", \"they'll\", \"they're\", \"they've\", 'this', 'those', 'through', 'to', 'too', 'under', 'until', 'up', 've', 'very', 'was', 'wasn', \"wasn't\", 'we', \"we'd\", \"we'll\", \"we're\", 'were', 'weren', \"weren't\", \"we've\", 'what', 'when', 'where', 'which', 'while', 'who', 'whom', 'why', 'will', 'with', 'won', \"won't\", 'wouldn', \"wouldn't\", 'y', 'you', \"you'd\", \"you'll\", 'your', \"you're\", 'yours', 'yourself', 'yourselves', \"you've\"]\n"
          ]
        }
      ]
    },
    {
      "cell_type": "code",
      "source": [],
      "metadata": {
        "id": "QuZ_l5ct5ipu"
      },
      "execution_count": null,
      "outputs": []
    },
    {
      "cell_type": "markdown",
      "source": [
        "# 4. Data PreProcessing"
      ],
      "metadata": {
        "id": "MPd9ZT1x5k2t"
      }
    },
    {
      "cell_type": "code",
      "source": [
        "# Loading the dataset to a pandas DataFrame\n",
        "df = pd.read_csv('fake_news.csv')\n",
        "df"
      ],
      "metadata": {
        "colab": {
          "base_uri": "https://localhost:8080/",
          "height": 562
        },
        "id": "s-lB7WzQ5kzU",
        "outputId": "81da6f1f-4631-4b92-92f3-ceeb1730ea0d"
      },
      "execution_count": null,
      "outputs": [
        {
          "output_type": "execute_result",
          "data": {
            "text/plain": [
              "          id                                              title  \\\n",
              "0          0  House Dem Aide: We Didn’t Even See Comey’s Let...   \n",
              "1          1  FLYNN: Hillary Clinton, Big Woman on Campus - ...   \n",
              "2          2                  Why the Truth Might Get You Fired   \n",
              "3          3  15 Civilians Killed In Single US Airstrike Hav...   \n",
              "4          4  Iranian woman jailed for fictional unpublished...   \n",
              "...      ...                                                ...   \n",
              "20795  20795  Rapper T.I.: Trump a ’Poster Child For White S...   \n",
              "20796  20796  N.F.L. Playoffs: Schedule, Matchups and Odds -...   \n",
              "20797  20797  Macy’s Is Said to Receive Takeover Approach by...   \n",
              "20798  20798  NATO, Russia To Hold Parallel Exercises In Bal...   \n",
              "20799  20799                          What Keeps the F-35 Alive   \n",
              "\n",
              "                                          author  \\\n",
              "0                                  Darrell Lucus   \n",
              "1                                Daniel J. Flynn   \n",
              "2                             Consortiumnews.com   \n",
              "3                                Jessica Purkiss   \n",
              "4                                 Howard Portnoy   \n",
              "...                                          ...   \n",
              "20795                              Jerome Hudson   \n",
              "20796                           Benjamin Hoffman   \n",
              "20797  Michael J. de la Merced and Rachel Abrams   \n",
              "20798                                Alex Ansary   \n",
              "20799                              David Swanson   \n",
              "\n",
              "                                                    text  label  \n",
              "0      House Dem Aide: We Didn’t Even See Comey’s Let...      1  \n",
              "1      Ever get the feeling your life circles the rou...      0  \n",
              "2      Why the Truth Might Get You Fired October 29, ...      1  \n",
              "3      Videos 15 Civilians Killed In Single US Airstr...      1  \n",
              "4      Print \\nAn Iranian woman has been sentenced to...      1  \n",
              "...                                                  ...    ...  \n",
              "20795  Rapper T. I. unloaded on black celebrities who...      0  \n",
              "20796  When the Green Bay Packers lost to the Washing...      0  \n",
              "20797  The Macy’s of today grew from the union of sev...      0  \n",
              "20798  NATO, Russia To Hold Parallel Exercises In Bal...      1  \n",
              "20799    David Swanson is an author, activist, journa...      1  \n",
              "\n",
              "[20800 rows x 5 columns]"
            ],
            "text/html": [
              "\n",
              "  <div id=\"df-afd95d10-f0b7-42e8-b9d8-9e4c8c434b9a\" class=\"colab-df-container\">\n",
              "    <div>\n",
              "<style scoped>\n",
              "    .dataframe tbody tr th:only-of-type {\n",
              "        vertical-align: middle;\n",
              "    }\n",
              "\n",
              "    .dataframe tbody tr th {\n",
              "        vertical-align: top;\n",
              "    }\n",
              "\n",
              "    .dataframe thead th {\n",
              "        text-align: right;\n",
              "    }\n",
              "</style>\n",
              "<table border=\"1\" class=\"dataframe\">\n",
              "  <thead>\n",
              "    <tr style=\"text-align: right;\">\n",
              "      <th></th>\n",
              "      <th>id</th>\n",
              "      <th>title</th>\n",
              "      <th>author</th>\n",
              "      <th>text</th>\n",
              "      <th>label</th>\n",
              "    </tr>\n",
              "  </thead>\n",
              "  <tbody>\n",
              "    <tr>\n",
              "      <th>0</th>\n",
              "      <td>0</td>\n",
              "      <td>House Dem Aide: We Didn’t Even See Comey’s Let...</td>\n",
              "      <td>Darrell Lucus</td>\n",
              "      <td>House Dem Aide: We Didn’t Even See Comey’s Let...</td>\n",
              "      <td>1</td>\n",
              "    </tr>\n",
              "    <tr>\n",
              "      <th>1</th>\n",
              "      <td>1</td>\n",
              "      <td>FLYNN: Hillary Clinton, Big Woman on Campus - ...</td>\n",
              "      <td>Daniel J. Flynn</td>\n",
              "      <td>Ever get the feeling your life circles the rou...</td>\n",
              "      <td>0</td>\n",
              "    </tr>\n",
              "    <tr>\n",
              "      <th>2</th>\n",
              "      <td>2</td>\n",
              "      <td>Why the Truth Might Get You Fired</td>\n",
              "      <td>Consortiumnews.com</td>\n",
              "      <td>Why the Truth Might Get You Fired October 29, ...</td>\n",
              "      <td>1</td>\n",
              "    </tr>\n",
              "    <tr>\n",
              "      <th>3</th>\n",
              "      <td>3</td>\n",
              "      <td>15 Civilians Killed In Single US Airstrike Hav...</td>\n",
              "      <td>Jessica Purkiss</td>\n",
              "      <td>Videos 15 Civilians Killed In Single US Airstr...</td>\n",
              "      <td>1</td>\n",
              "    </tr>\n",
              "    <tr>\n",
              "      <th>4</th>\n",
              "      <td>4</td>\n",
              "      <td>Iranian woman jailed for fictional unpublished...</td>\n",
              "      <td>Howard Portnoy</td>\n",
              "      <td>Print \\nAn Iranian woman has been sentenced to...</td>\n",
              "      <td>1</td>\n",
              "    </tr>\n",
              "    <tr>\n",
              "      <th>...</th>\n",
              "      <td>...</td>\n",
              "      <td>...</td>\n",
              "      <td>...</td>\n",
              "      <td>...</td>\n",
              "      <td>...</td>\n",
              "    </tr>\n",
              "    <tr>\n",
              "      <th>20795</th>\n",
              "      <td>20795</td>\n",
              "      <td>Rapper T.I.: Trump a ’Poster Child For White S...</td>\n",
              "      <td>Jerome Hudson</td>\n",
              "      <td>Rapper T. I. unloaded on black celebrities who...</td>\n",
              "      <td>0</td>\n",
              "    </tr>\n",
              "    <tr>\n",
              "      <th>20796</th>\n",
              "      <td>20796</td>\n",
              "      <td>N.F.L. Playoffs: Schedule, Matchups and Odds -...</td>\n",
              "      <td>Benjamin Hoffman</td>\n",
              "      <td>When the Green Bay Packers lost to the Washing...</td>\n",
              "      <td>0</td>\n",
              "    </tr>\n",
              "    <tr>\n",
              "      <th>20797</th>\n",
              "      <td>20797</td>\n",
              "      <td>Macy’s Is Said to Receive Takeover Approach by...</td>\n",
              "      <td>Michael J. de la Merced and Rachel Abrams</td>\n",
              "      <td>The Macy’s of today grew from the union of sev...</td>\n",
              "      <td>0</td>\n",
              "    </tr>\n",
              "    <tr>\n",
              "      <th>20798</th>\n",
              "      <td>20798</td>\n",
              "      <td>NATO, Russia To Hold Parallel Exercises In Bal...</td>\n",
              "      <td>Alex Ansary</td>\n",
              "      <td>NATO, Russia To Hold Parallel Exercises In Bal...</td>\n",
              "      <td>1</td>\n",
              "    </tr>\n",
              "    <tr>\n",
              "      <th>20799</th>\n",
              "      <td>20799</td>\n",
              "      <td>What Keeps the F-35 Alive</td>\n",
              "      <td>David Swanson</td>\n",
              "      <td>David Swanson is an author, activist, journa...</td>\n",
              "      <td>1</td>\n",
              "    </tr>\n",
              "  </tbody>\n",
              "</table>\n",
              "<p>20800 rows × 5 columns</p>\n",
              "</div>\n",
              "    <div class=\"colab-df-buttons\">\n",
              "\n",
              "  <div class=\"colab-df-container\">\n",
              "    <button class=\"colab-df-convert\" onclick=\"convertToInteractive('df-afd95d10-f0b7-42e8-b9d8-9e4c8c434b9a')\"\n",
              "            title=\"Convert this dataframe to an interactive table.\"\n",
              "            style=\"display:none;\">\n",
              "\n",
              "  <svg xmlns=\"http://www.w3.org/2000/svg\" height=\"24px\" viewBox=\"0 -960 960 960\">\n",
              "    <path d=\"M120-120v-720h720v720H120Zm60-500h600v-160H180v160Zm220 220h160v-160H400v160Zm0 220h160v-160H400v160ZM180-400h160v-160H180v160Zm440 0h160v-160H620v160ZM180-180h160v-160H180v160Zm440 0h160v-160H620v160Z\"/>\n",
              "  </svg>\n",
              "    </button>\n",
              "\n",
              "  <style>\n",
              "    .colab-df-container {\n",
              "      display:flex;\n",
              "      gap: 12px;\n",
              "    }\n",
              "\n",
              "    .colab-df-convert {\n",
              "      background-color: #E8F0FE;\n",
              "      border: none;\n",
              "      border-radius: 50%;\n",
              "      cursor: pointer;\n",
              "      display: none;\n",
              "      fill: #1967D2;\n",
              "      height: 32px;\n",
              "      padding: 0 0 0 0;\n",
              "      width: 32px;\n",
              "    }\n",
              "\n",
              "    .colab-df-convert:hover {\n",
              "      background-color: #E2EBFA;\n",
              "      box-shadow: 0px 1px 2px rgba(60, 64, 67, 0.3), 0px 1px 3px 1px rgba(60, 64, 67, 0.15);\n",
              "      fill: #174EA6;\n",
              "    }\n",
              "\n",
              "    .colab-df-buttons div {\n",
              "      margin-bottom: 4px;\n",
              "    }\n",
              "\n",
              "    [theme=dark] .colab-df-convert {\n",
              "      background-color: #3B4455;\n",
              "      fill: #D2E3FC;\n",
              "    }\n",
              "\n",
              "    [theme=dark] .colab-df-convert:hover {\n",
              "      background-color: #434B5C;\n",
              "      box-shadow: 0px 1px 3px 1px rgba(0, 0, 0, 0.15);\n",
              "      filter: drop-shadow(0px 1px 2px rgba(0, 0, 0, 0.3));\n",
              "      fill: #FFFFFF;\n",
              "    }\n",
              "  </style>\n",
              "\n",
              "    <script>\n",
              "      const buttonEl =\n",
              "        document.querySelector('#df-afd95d10-f0b7-42e8-b9d8-9e4c8c434b9a button.colab-df-convert');\n",
              "      buttonEl.style.display =\n",
              "        google.colab.kernel.accessAllowed ? 'block' : 'none';\n",
              "\n",
              "      async function convertToInteractive(key) {\n",
              "        const element = document.querySelector('#df-afd95d10-f0b7-42e8-b9d8-9e4c8c434b9a');\n",
              "        const dataTable =\n",
              "          await google.colab.kernel.invokeFunction('convertToInteractive',\n",
              "                                                    [key], {});\n",
              "        if (!dataTable) return;\n",
              "\n",
              "        const docLinkHtml = 'Like what you see? Visit the ' +\n",
              "          '<a target=\"_blank\" href=https://colab.research.google.com/notebooks/data_table.ipynb>data table notebook</a>'\n",
              "          + ' to learn more about interactive tables.';\n",
              "        element.innerHTML = '';\n",
              "        dataTable['output_type'] = 'display_data';\n",
              "        await google.colab.output.renderOutput(dataTable, element);\n",
              "        const docLink = document.createElement('div');\n",
              "        docLink.innerHTML = docLinkHtml;\n",
              "        element.appendChild(docLink);\n",
              "      }\n",
              "    </script>\n",
              "  </div>\n",
              "\n",
              "\n",
              "    <div id=\"df-7ecc5eb2-86e2-487f-8beb-61669c448bea\">\n",
              "      <button class=\"colab-df-quickchart\" onclick=\"quickchart('df-7ecc5eb2-86e2-487f-8beb-61669c448bea')\"\n",
              "                title=\"Suggest charts\"\n",
              "                style=\"display:none;\">\n",
              "\n",
              "<svg xmlns=\"http://www.w3.org/2000/svg\" height=\"24px\"viewBox=\"0 0 24 24\"\n",
              "     width=\"24px\">\n",
              "    <g>\n",
              "        <path d=\"M19 3H5c-1.1 0-2 .9-2 2v14c0 1.1.9 2 2 2h14c1.1 0 2-.9 2-2V5c0-1.1-.9-2-2-2zM9 17H7v-7h2v7zm4 0h-2V7h2v10zm4 0h-2v-4h2v4z\"/>\n",
              "    </g>\n",
              "</svg>\n",
              "      </button>\n",
              "\n",
              "<style>\n",
              "  .colab-df-quickchart {\n",
              "      --bg-color: #E8F0FE;\n",
              "      --fill-color: #1967D2;\n",
              "      --hover-bg-color: #E2EBFA;\n",
              "      --hover-fill-color: #174EA6;\n",
              "      --disabled-fill-color: #AAA;\n",
              "      --disabled-bg-color: #DDD;\n",
              "  }\n",
              "\n",
              "  [theme=dark] .colab-df-quickchart {\n",
              "      --bg-color: #3B4455;\n",
              "      --fill-color: #D2E3FC;\n",
              "      --hover-bg-color: #434B5C;\n",
              "      --hover-fill-color: #FFFFFF;\n",
              "      --disabled-bg-color: #3B4455;\n",
              "      --disabled-fill-color: #666;\n",
              "  }\n",
              "\n",
              "  .colab-df-quickchart {\n",
              "    background-color: var(--bg-color);\n",
              "    border: none;\n",
              "    border-radius: 50%;\n",
              "    cursor: pointer;\n",
              "    display: none;\n",
              "    fill: var(--fill-color);\n",
              "    height: 32px;\n",
              "    padding: 0;\n",
              "    width: 32px;\n",
              "  }\n",
              "\n",
              "  .colab-df-quickchart:hover {\n",
              "    background-color: var(--hover-bg-color);\n",
              "    box-shadow: 0 1px 2px rgba(60, 64, 67, 0.3), 0 1px 3px 1px rgba(60, 64, 67, 0.15);\n",
              "    fill: var(--button-hover-fill-color);\n",
              "  }\n",
              "\n",
              "  .colab-df-quickchart-complete:disabled,\n",
              "  .colab-df-quickchart-complete:disabled:hover {\n",
              "    background-color: var(--disabled-bg-color);\n",
              "    fill: var(--disabled-fill-color);\n",
              "    box-shadow: none;\n",
              "  }\n",
              "\n",
              "  .colab-df-spinner {\n",
              "    border: 2px solid var(--fill-color);\n",
              "    border-color: transparent;\n",
              "    border-bottom-color: var(--fill-color);\n",
              "    animation:\n",
              "      spin 1s steps(1) infinite;\n",
              "  }\n",
              "\n",
              "  @keyframes spin {\n",
              "    0% {\n",
              "      border-color: transparent;\n",
              "      border-bottom-color: var(--fill-color);\n",
              "      border-left-color: var(--fill-color);\n",
              "    }\n",
              "    20% {\n",
              "      border-color: transparent;\n",
              "      border-left-color: var(--fill-color);\n",
              "      border-top-color: var(--fill-color);\n",
              "    }\n",
              "    30% {\n",
              "      border-color: transparent;\n",
              "      border-left-color: var(--fill-color);\n",
              "      border-top-color: var(--fill-color);\n",
              "      border-right-color: var(--fill-color);\n",
              "    }\n",
              "    40% {\n",
              "      border-color: transparent;\n",
              "      border-right-color: var(--fill-color);\n",
              "      border-top-color: var(--fill-color);\n",
              "    }\n",
              "    60% {\n",
              "      border-color: transparent;\n",
              "      border-right-color: var(--fill-color);\n",
              "    }\n",
              "    80% {\n",
              "      border-color: transparent;\n",
              "      border-right-color: var(--fill-color);\n",
              "      border-bottom-color: var(--fill-color);\n",
              "    }\n",
              "    90% {\n",
              "      border-color: transparent;\n",
              "      border-bottom-color: var(--fill-color);\n",
              "    }\n",
              "  }\n",
              "</style>\n",
              "\n",
              "      <script>\n",
              "        async function quickchart(key) {\n",
              "          const quickchartButtonEl =\n",
              "            document.querySelector('#' + key + ' button');\n",
              "          quickchartButtonEl.disabled = true;  // To prevent multiple clicks.\n",
              "          quickchartButtonEl.classList.add('colab-df-spinner');\n",
              "          try {\n",
              "            const charts = await google.colab.kernel.invokeFunction(\n",
              "                'suggestCharts', [key], {});\n",
              "          } catch (error) {\n",
              "            console.error('Error during call to suggestCharts:', error);\n",
              "          }\n",
              "          quickchartButtonEl.classList.remove('colab-df-spinner');\n",
              "          quickchartButtonEl.classList.add('colab-df-quickchart-complete');\n",
              "        }\n",
              "        (() => {\n",
              "          let quickchartButtonEl =\n",
              "            document.querySelector('#df-7ecc5eb2-86e2-487f-8beb-61669c448bea button');\n",
              "          quickchartButtonEl.style.display =\n",
              "            google.colab.kernel.accessAllowed ? 'block' : 'none';\n",
              "        })();\n",
              "      </script>\n",
              "    </div>\n",
              "\n",
              "  <div id=\"id_a54fcfb2-7273-4d0e-b9e9-63de161040d6\">\n",
              "    <style>\n",
              "      .colab-df-generate {\n",
              "        background-color: #E8F0FE;\n",
              "        border: none;\n",
              "        border-radius: 50%;\n",
              "        cursor: pointer;\n",
              "        display: none;\n",
              "        fill: #1967D2;\n",
              "        height: 32px;\n",
              "        padding: 0 0 0 0;\n",
              "        width: 32px;\n",
              "      }\n",
              "\n",
              "      .colab-df-generate:hover {\n",
              "        background-color: #E2EBFA;\n",
              "        box-shadow: 0px 1px 2px rgba(60, 64, 67, 0.3), 0px 1px 3px 1px rgba(60, 64, 67, 0.15);\n",
              "        fill: #174EA6;\n",
              "      }\n",
              "\n",
              "      [theme=dark] .colab-df-generate {\n",
              "        background-color: #3B4455;\n",
              "        fill: #D2E3FC;\n",
              "      }\n",
              "\n",
              "      [theme=dark] .colab-df-generate:hover {\n",
              "        background-color: #434B5C;\n",
              "        box-shadow: 0px 1px 3px 1px rgba(0, 0, 0, 0.15);\n",
              "        filter: drop-shadow(0px 1px 2px rgba(0, 0, 0, 0.3));\n",
              "        fill: #FFFFFF;\n",
              "      }\n",
              "    </style>\n",
              "    <button class=\"colab-df-generate\" onclick=\"generateWithVariable('df')\"\n",
              "            title=\"Generate code using this dataframe.\"\n",
              "            style=\"display:none;\">\n",
              "\n",
              "  <svg xmlns=\"http://www.w3.org/2000/svg\" height=\"24px\"viewBox=\"0 0 24 24\"\n",
              "       width=\"24px\">\n",
              "    <path d=\"M7,19H8.4L18.45,9,17,7.55,7,17.6ZM5,21V16.75L18.45,3.32a2,2,0,0,1,2.83,0l1.4,1.43a1.91,1.91,0,0,1,.58,1.4,1.91,1.91,0,0,1-.58,1.4L9.25,21ZM18.45,9,17,7.55Zm-12,3A5.31,5.31,0,0,0,4.9,8.1,5.31,5.31,0,0,0,1,6.5,5.31,5.31,0,0,0,4.9,4.9,5.31,5.31,0,0,0,6.5,1,5.31,5.31,0,0,0,8.1,4.9,5.31,5.31,0,0,0,12,6.5,5.46,5.46,0,0,0,6.5,12Z\"/>\n",
              "  </svg>\n",
              "    </button>\n",
              "    <script>\n",
              "      (() => {\n",
              "      const buttonEl =\n",
              "        document.querySelector('#id_a54fcfb2-7273-4d0e-b9e9-63de161040d6 button.colab-df-generate');\n",
              "      buttonEl.style.display =\n",
              "        google.colab.kernel.accessAllowed ? 'block' : 'none';\n",
              "\n",
              "      buttonEl.onclick = () => {\n",
              "        google.colab.notebook.generateWithVariable('df');\n",
              "      }\n",
              "      })();\n",
              "    </script>\n",
              "  </div>\n",
              "\n",
              "    </div>\n",
              "  </div>\n"
            ],
            "application/vnd.google.colaboratory.intrinsic+json": {
              "type": "dataframe",
              "variable_name": "df",
              "summary": "{\n  \"name\": \"df\",\n  \"rows\": 20800,\n  \"fields\": [\n    {\n      \"column\": \"id\",\n      \"properties\": {\n        \"dtype\": \"number\",\n        \"std\": 6004,\n        \"min\": 0,\n        \"max\": 20799,\n        \"num_unique_values\": 20800,\n        \"samples\": [\n          14649,\n          9231,\n          6473\n        ],\n        \"semantic_type\": \"\",\n        \"description\": \"\"\n      }\n    },\n    {\n      \"column\": \"title\",\n      \"properties\": {\n        \"dtype\": \"string\",\n        \"num_unique_values\": 19803,\n        \"samples\": [\n          \"Florida Republicans Voting for Hillary Clinton \\u00b7 Guardian Liberty Voice\",\n          \"\\u2018Weekend Warriors\\u2019 Show Survival Benefits - The New York Times\",\n          \"Part 6, Democratic Network Money: Commons Money that Works for Us, Instead of Us Working for It\"\n        ],\n        \"semantic_type\": \"\",\n        \"description\": \"\"\n      }\n    },\n    {\n      \"column\": \"author\",\n      \"properties\": {\n        \"dtype\": \"category\",\n        \"num_unique_values\": 4201,\n        \"samples\": [\n          \"AARGH63\",\n          \"Dave Kehr\",\n          \"Patrick Healy\"\n        ],\n        \"semantic_type\": \"\",\n        \"description\": \"\"\n      }\n    },\n    {\n      \"column\": \"text\",\n      \"properties\": {\n        \"dtype\": \"string\",\n        \"num_unique_values\": 20386,\n        \"samples\": [\n          \"Multan a un ultrasur por lanzar a un jugador del Bar\\u00e7a al campo durante el partido Madrid-Legia EL PARTIDO SE CONSIDERABA DE ALTO RIESGO PARA LOS JUGADORES DEL BARCELONA Real Madrid \\nUn jugador barcelonista golpe\\u00f3 a varios jugadores durante el encuentro de la Champions que tuvo lugar ayer entre el Real Madrid y el Legia Varsovia despu\\u00e9s de ser arrojado desde la grada por un hincha madridista. \\nEl portero del Legia, muy molesto, intent\\u00f3 devolver el jugador a las gradas de una patada y se encar\\u00f3 con los Ultrasur, que ya preparaban a otro jugador para echarlo al campo y entorpecer el encuentro. En esta ocasi\\u00f3n pretend\\u00edan prenderlo con un mechero antes de lanzarlo al c\\u00e9sped. \\nLas autoridades han vuelto a pedir a los aficionados que dejen de lanzar cosas al campo como botellas, monedas y jugadores del Barcelona. El dispositivo de seguridad no puedo hacer nada por evitar que algunos hinchas introdujeran a jugadores barcelonistas a la grada, pues los llevaban camuflados dentro de bocadillos de gran tama\\u00f1o. \\nEl partido pudo ser reanudado cuando el \\u00e1rbitro apart\\u00f3 a un rinc\\u00f3n del c\\u00e9sped al jugador barcelonista.\",\n          \"Written by Jacob G. Hornberger   As US officials continue to accuse Russia of meddling with the US presidential election, an accusation that they have provided no evidence whatsoever to support, let\\u2019s review some of the US government\\u2019s history of meddling with elections in others countries.1. In 1951, the democratically elected parliament of Iran elected a man named Mohammad Mossadegh to be Iran\\u2019s prime minister. Mossadegh angered British Empire officials by nationalizing British oil interests in the country.British officials then turned to the CIA for assistance. In 1953, the CIA secretly fomented a violent coup in Iran, which succeeded in ousting Mossadegh from power and making the Shah of Iran the supreme unelected dictator of the country.To fortify the Shah\\u2019s dictatorial hold on power, the CIA helped organize and train the his domestic police force, the Savak, which was essentially a combination of the CIA, the NSA, and the military. Part of the CIA\\u2019s training involved teaching Savak agents the art of torture.For the next 26 years, the Iranian people suffered under one of the most brutal and tyrannical dictatorships in the world, one that US officials fully supported and called an ally and friend of the United States.In 1979, Iranians successfully revolted against the Shah\\u2019s regime and ousted him from power. One result was not a restoration of the democratic system that had elected Mossadegh but rather another brutal dictatorship, this time a religious one. Another result is the bad relations between the Iran and US governments that continues to exist today.2. In 1951, the Guatemalan people democratically elected a man named Jacobo Arbenz to be their president. Arbenz, however, was not satisfactory to US officials, especially the national-security branch of the government, specifically the Pentagon and the CIA. The reason that US officials opposed Arbenz was that he was a socialist, and US officials considered a socialist president of Guatemala to be a threat to \\u201cnational security\\u201d here in the United States.In 1954 \\u2014 one year after the coup in Iran, the CIA fomented a violent military coup that succeeded in removing Arbenz from power and replacing him with one of the most brutal unelected military dictators in Latin American history, a man named Carlos Castillo Armas. The CIA had a kill list prepared for the coup, which Arbenz was able to escape by fleeing the country before Castillo was able to get him. The CIA\\u2019s destruction of Guatemala\\u2019s democratic system threw the nation into a 30-year civil war that ended up killing millions of Guatemalan people, especially many of the poor.3. In 1960 a man named Patrice Lamumba was elected Congo\\u2019s first prime minister after independence from Belgium. Lamumba spoke out against Western imperialism and refused to take sides in the Cold War, which caused the CIA to conclude that he was a threat to \\u201cnational security.\\u201d The CIA orchestrated the assassination of Lamumba, which ended up taking place on January 17, 1961, just three days before President Kennedy, who liked Lamumba and who would have ordered the CIA to stand down, was to be sworn into office.4. In 1970 a man named Salvador Allende received a plurality of votes in the presidential election in Chile. Pursuant to the Chilean constitution, the election was thrown into the national congress. President Richard Nixon, his national-security team, the Pentagon, and the CIA concluded that because Allende believed in communism and socialism, he posed a grave threat to \\u201cnational security\\u201d here in the United States. The CIA attempted to bribe members of the congress to vote against Allende. It also orchestrated the kidnapping of the head of Chile\\u2019s armed forces, Gen Rene Schneider, who opposed a US military coup in his country, especially since a coup would violate the country\\u2019s constitution. The kidnapping attempt on Schneider left him dead.The CIA then fomented a coup that took place on 9/11 1973 that violently ousted Allende from power and left him dead. Replacing him was army Gen. Augusto Pinochet, one of the most brutal unelected military dictators in history. By the time Pinochet\\u2019s 17-year reign of military terror came to an end in 1990, he and his CIA-supported goons had incarcerated, raped, tortured, or killed tens of thousands of innocent people \\u2014 that is, people whose only \\u201ccrime\\u201d was believing in socialism \\u2014 with the full support of the CIA, Pentagon, Nixon, and his \\u201cnational security\\u201d team.Of course, there are also the more recent support of regime-change operations that ousted democratically elected presidents that the US government disapproved of, such as in Ukraine and Egypt.And then there is the long list of countries where unelected dictators were targeted for regime change by the US national security state and, where successful, replaced with a brutal unelected pro-US dictator. Cuba, Indonesia, Iraq, Libya, and Syria all come to mind.US officials need to keep in mind that when they point their accusatory index finger at Russia for supposedly meddling in the US presidential election, US officials have, at the same time, three fingers pointing back at themselves. Reprinted with permission from the Future of Freedom Foundation . Related\",\n          \"When hearing of an establishment called the Black and Blue Steakhouse, one could reasonably surmise that some, or at the very least one, extremely tough person could be found somewhere in there. Well, the three terrorists who attacked London Bridge over the weekend found the Black and Blue Steakhouse, and they found the toughest man in the house. [Or, maybe more to the point, he found them.  Roy Larner, 47, is a huge fan of the South East London soccer team Millwall F. C. The team is known as the Lions, and when   terrorists entered the Black and Blue to kill innocent people, Larner let them know who is the true king of the jungle. After the terrorists entered, with obvious bad intentions, Larner sprang into action: \\u201cLike an idiot I shouted back at them. I thought, \\u2018I need to take the p*** out of these b*****s.\\u2019 \\u201cI took a few steps towards them and said, \\u2018F*** you, I\\u2019m Millwall.\\u2019 So they started attacking me. \\u201cI stood in front of them trying to fight them off. Everyone else ran to the back. I was on my own against all three of them, that\\u2019s why I got hurt so much. It was just me, trying to grab them with my bare hands and hold on. I was swinging. \\u201cI got stabbed and sliced eight times. They got me in my head, chest and both hands. There was blood everywhere. \\u201cThey were saying, \\u2018Islam, Islam!\\u2019 I said again, \\u2018F*** you, I\\u2019m Millwall!\\u2019 \\u201cIt was the worst thing I could have done as they carried on attacking me. \\u201cLuckily, none of the blows were straight at me or I\\u2019d be dead. \\u201d A petition has begun, with the aim of awarding Larner with the George Cross for bravery. The award is the second highest commendation granted by Great Britain. Looking at his scars, it\\u2019s really hard to imagine that he won\\u2019t get it. If Millwall is looking for a new slogan, they may have found it. \\u201cF*** you, I\\u2019m Millwall!\\u201d has a nice ring to it. Follow Dylan Gwinn on Twitter: @themightygwinn\"\n        ],\n        \"semantic_type\": \"\",\n        \"description\": \"\"\n      }\n    },\n    {\n      \"column\": \"label\",\n      \"properties\": {\n        \"dtype\": \"number\",\n        \"std\": 0,\n        \"min\": 0,\n        \"max\": 1,\n        \"num_unique_values\": 2,\n        \"samples\": [\n          0,\n          1\n        ],\n        \"semantic_type\": \"\",\n        \"description\": \"\"\n      }\n    }\n  ]\n}"
            }
          },
          "metadata": {},
          "execution_count": 4
        }
      ]
    },
    {
      "cell_type": "code",
      "source": [
        "df.shape"
      ],
      "metadata": {
        "colab": {
          "base_uri": "https://localhost:8080/"
        },
        "id": "ElpqgeNg5kw6",
        "outputId": "616e91ae-e1a9-45d3-bb48-1df620d96f3c"
      },
      "execution_count": null,
      "outputs": [
        {
          "output_type": "execute_result",
          "data": {
            "text/plain": [
              "(20800, 5)"
            ]
          },
          "metadata": {},
          "execution_count": 5
        }
      ]
    },
    {
      "cell_type": "code",
      "source": [
        "# Print the first five rows of the dataset\n",
        "df.head()"
      ],
      "metadata": {
        "colab": {
          "base_uri": "https://localhost:8080/",
          "height": 206
        },
        "id": "8LC80xAr5kug",
        "outputId": "56006dc7-d743-48ff-fc36-02184f8e7c08"
      },
      "execution_count": null,
      "outputs": [
        {
          "output_type": "execute_result",
          "data": {
            "text/plain": [
              "   id                                              title              author  \\\n",
              "0   0  House Dem Aide: We Didn’t Even See Comey’s Let...       Darrell Lucus   \n",
              "1   1  FLYNN: Hillary Clinton, Big Woman on Campus - ...     Daniel J. Flynn   \n",
              "2   2                  Why the Truth Might Get You Fired  Consortiumnews.com   \n",
              "3   3  15 Civilians Killed In Single US Airstrike Hav...     Jessica Purkiss   \n",
              "4   4  Iranian woman jailed for fictional unpublished...      Howard Portnoy   \n",
              "\n",
              "                                                text  label  \n",
              "0  House Dem Aide: We Didn’t Even See Comey’s Let...      1  \n",
              "1  Ever get the feeling your life circles the rou...      0  \n",
              "2  Why the Truth Might Get You Fired October 29, ...      1  \n",
              "3  Videos 15 Civilians Killed In Single US Airstr...      1  \n",
              "4  Print \\nAn Iranian woman has been sentenced to...      1  "
            ],
            "text/html": [
              "\n",
              "  <div id=\"df-5a8c6c4c-4df4-4c09-ba36-5c338e3f74e1\" class=\"colab-df-container\">\n",
              "    <div>\n",
              "<style scoped>\n",
              "    .dataframe tbody tr th:only-of-type {\n",
              "        vertical-align: middle;\n",
              "    }\n",
              "\n",
              "    .dataframe tbody tr th {\n",
              "        vertical-align: top;\n",
              "    }\n",
              "\n",
              "    .dataframe thead th {\n",
              "        text-align: right;\n",
              "    }\n",
              "</style>\n",
              "<table border=\"1\" class=\"dataframe\">\n",
              "  <thead>\n",
              "    <tr style=\"text-align: right;\">\n",
              "      <th></th>\n",
              "      <th>id</th>\n",
              "      <th>title</th>\n",
              "      <th>author</th>\n",
              "      <th>text</th>\n",
              "      <th>label</th>\n",
              "    </tr>\n",
              "  </thead>\n",
              "  <tbody>\n",
              "    <tr>\n",
              "      <th>0</th>\n",
              "      <td>0</td>\n",
              "      <td>House Dem Aide: We Didn’t Even See Comey’s Let...</td>\n",
              "      <td>Darrell Lucus</td>\n",
              "      <td>House Dem Aide: We Didn’t Even See Comey’s Let...</td>\n",
              "      <td>1</td>\n",
              "    </tr>\n",
              "    <tr>\n",
              "      <th>1</th>\n",
              "      <td>1</td>\n",
              "      <td>FLYNN: Hillary Clinton, Big Woman on Campus - ...</td>\n",
              "      <td>Daniel J. Flynn</td>\n",
              "      <td>Ever get the feeling your life circles the rou...</td>\n",
              "      <td>0</td>\n",
              "    </tr>\n",
              "    <tr>\n",
              "      <th>2</th>\n",
              "      <td>2</td>\n",
              "      <td>Why the Truth Might Get You Fired</td>\n",
              "      <td>Consortiumnews.com</td>\n",
              "      <td>Why the Truth Might Get You Fired October 29, ...</td>\n",
              "      <td>1</td>\n",
              "    </tr>\n",
              "    <tr>\n",
              "      <th>3</th>\n",
              "      <td>3</td>\n",
              "      <td>15 Civilians Killed In Single US Airstrike Hav...</td>\n",
              "      <td>Jessica Purkiss</td>\n",
              "      <td>Videos 15 Civilians Killed In Single US Airstr...</td>\n",
              "      <td>1</td>\n",
              "    </tr>\n",
              "    <tr>\n",
              "      <th>4</th>\n",
              "      <td>4</td>\n",
              "      <td>Iranian woman jailed for fictional unpublished...</td>\n",
              "      <td>Howard Portnoy</td>\n",
              "      <td>Print \\nAn Iranian woman has been sentenced to...</td>\n",
              "      <td>1</td>\n",
              "    </tr>\n",
              "  </tbody>\n",
              "</table>\n",
              "</div>\n",
              "    <div class=\"colab-df-buttons\">\n",
              "\n",
              "  <div class=\"colab-df-container\">\n",
              "    <button class=\"colab-df-convert\" onclick=\"convertToInteractive('df-5a8c6c4c-4df4-4c09-ba36-5c338e3f74e1')\"\n",
              "            title=\"Convert this dataframe to an interactive table.\"\n",
              "            style=\"display:none;\">\n",
              "\n",
              "  <svg xmlns=\"http://www.w3.org/2000/svg\" height=\"24px\" viewBox=\"0 -960 960 960\">\n",
              "    <path d=\"M120-120v-720h720v720H120Zm60-500h600v-160H180v160Zm220 220h160v-160H400v160Zm0 220h160v-160H400v160ZM180-400h160v-160H180v160Zm440 0h160v-160H620v160ZM180-180h160v-160H180v160Zm440 0h160v-160H620v160Z\"/>\n",
              "  </svg>\n",
              "    </button>\n",
              "\n",
              "  <style>\n",
              "    .colab-df-container {\n",
              "      display:flex;\n",
              "      gap: 12px;\n",
              "    }\n",
              "\n",
              "    .colab-df-convert {\n",
              "      background-color: #E8F0FE;\n",
              "      border: none;\n",
              "      border-radius: 50%;\n",
              "      cursor: pointer;\n",
              "      display: none;\n",
              "      fill: #1967D2;\n",
              "      height: 32px;\n",
              "      padding: 0 0 0 0;\n",
              "      width: 32px;\n",
              "    }\n",
              "\n",
              "    .colab-df-convert:hover {\n",
              "      background-color: #E2EBFA;\n",
              "      box-shadow: 0px 1px 2px rgba(60, 64, 67, 0.3), 0px 1px 3px 1px rgba(60, 64, 67, 0.15);\n",
              "      fill: #174EA6;\n",
              "    }\n",
              "\n",
              "    .colab-df-buttons div {\n",
              "      margin-bottom: 4px;\n",
              "    }\n",
              "\n",
              "    [theme=dark] .colab-df-convert {\n",
              "      background-color: #3B4455;\n",
              "      fill: #D2E3FC;\n",
              "    }\n",
              "\n",
              "    [theme=dark] .colab-df-convert:hover {\n",
              "      background-color: #434B5C;\n",
              "      box-shadow: 0px 1px 3px 1px rgba(0, 0, 0, 0.15);\n",
              "      filter: drop-shadow(0px 1px 2px rgba(0, 0, 0, 0.3));\n",
              "      fill: #FFFFFF;\n",
              "    }\n",
              "  </style>\n",
              "\n",
              "    <script>\n",
              "      const buttonEl =\n",
              "        document.querySelector('#df-5a8c6c4c-4df4-4c09-ba36-5c338e3f74e1 button.colab-df-convert');\n",
              "      buttonEl.style.display =\n",
              "        google.colab.kernel.accessAllowed ? 'block' : 'none';\n",
              "\n",
              "      async function convertToInteractive(key) {\n",
              "        const element = document.querySelector('#df-5a8c6c4c-4df4-4c09-ba36-5c338e3f74e1');\n",
              "        const dataTable =\n",
              "          await google.colab.kernel.invokeFunction('convertToInteractive',\n",
              "                                                    [key], {});\n",
              "        if (!dataTable) return;\n",
              "\n",
              "        const docLinkHtml = 'Like what you see? Visit the ' +\n",
              "          '<a target=\"_blank\" href=https://colab.research.google.com/notebooks/data_table.ipynb>data table notebook</a>'\n",
              "          + ' to learn more about interactive tables.';\n",
              "        element.innerHTML = '';\n",
              "        dataTable['output_type'] = 'display_data';\n",
              "        await google.colab.output.renderOutput(dataTable, element);\n",
              "        const docLink = document.createElement('div');\n",
              "        docLink.innerHTML = docLinkHtml;\n",
              "        element.appendChild(docLink);\n",
              "      }\n",
              "    </script>\n",
              "  </div>\n",
              "\n",
              "\n",
              "    <div id=\"df-660ddd90-c01d-4236-ac43-6325fb2099cf\">\n",
              "      <button class=\"colab-df-quickchart\" onclick=\"quickchart('df-660ddd90-c01d-4236-ac43-6325fb2099cf')\"\n",
              "                title=\"Suggest charts\"\n",
              "                style=\"display:none;\">\n",
              "\n",
              "<svg xmlns=\"http://www.w3.org/2000/svg\" height=\"24px\"viewBox=\"0 0 24 24\"\n",
              "     width=\"24px\">\n",
              "    <g>\n",
              "        <path d=\"M19 3H5c-1.1 0-2 .9-2 2v14c0 1.1.9 2 2 2h14c1.1 0 2-.9 2-2V5c0-1.1-.9-2-2-2zM9 17H7v-7h2v7zm4 0h-2V7h2v10zm4 0h-2v-4h2v4z\"/>\n",
              "    </g>\n",
              "</svg>\n",
              "      </button>\n",
              "\n",
              "<style>\n",
              "  .colab-df-quickchart {\n",
              "      --bg-color: #E8F0FE;\n",
              "      --fill-color: #1967D2;\n",
              "      --hover-bg-color: #E2EBFA;\n",
              "      --hover-fill-color: #174EA6;\n",
              "      --disabled-fill-color: #AAA;\n",
              "      --disabled-bg-color: #DDD;\n",
              "  }\n",
              "\n",
              "  [theme=dark] .colab-df-quickchart {\n",
              "      --bg-color: #3B4455;\n",
              "      --fill-color: #D2E3FC;\n",
              "      --hover-bg-color: #434B5C;\n",
              "      --hover-fill-color: #FFFFFF;\n",
              "      --disabled-bg-color: #3B4455;\n",
              "      --disabled-fill-color: #666;\n",
              "  }\n",
              "\n",
              "  .colab-df-quickchart {\n",
              "    background-color: var(--bg-color);\n",
              "    border: none;\n",
              "    border-radius: 50%;\n",
              "    cursor: pointer;\n",
              "    display: none;\n",
              "    fill: var(--fill-color);\n",
              "    height: 32px;\n",
              "    padding: 0;\n",
              "    width: 32px;\n",
              "  }\n",
              "\n",
              "  .colab-df-quickchart:hover {\n",
              "    background-color: var(--hover-bg-color);\n",
              "    box-shadow: 0 1px 2px rgba(60, 64, 67, 0.3), 0 1px 3px 1px rgba(60, 64, 67, 0.15);\n",
              "    fill: var(--button-hover-fill-color);\n",
              "  }\n",
              "\n",
              "  .colab-df-quickchart-complete:disabled,\n",
              "  .colab-df-quickchart-complete:disabled:hover {\n",
              "    background-color: var(--disabled-bg-color);\n",
              "    fill: var(--disabled-fill-color);\n",
              "    box-shadow: none;\n",
              "  }\n",
              "\n",
              "  .colab-df-spinner {\n",
              "    border: 2px solid var(--fill-color);\n",
              "    border-color: transparent;\n",
              "    border-bottom-color: var(--fill-color);\n",
              "    animation:\n",
              "      spin 1s steps(1) infinite;\n",
              "  }\n",
              "\n",
              "  @keyframes spin {\n",
              "    0% {\n",
              "      border-color: transparent;\n",
              "      border-bottom-color: var(--fill-color);\n",
              "      border-left-color: var(--fill-color);\n",
              "    }\n",
              "    20% {\n",
              "      border-color: transparent;\n",
              "      border-left-color: var(--fill-color);\n",
              "      border-top-color: var(--fill-color);\n",
              "    }\n",
              "    30% {\n",
              "      border-color: transparent;\n",
              "      border-left-color: var(--fill-color);\n",
              "      border-top-color: var(--fill-color);\n",
              "      border-right-color: var(--fill-color);\n",
              "    }\n",
              "    40% {\n",
              "      border-color: transparent;\n",
              "      border-right-color: var(--fill-color);\n",
              "      border-top-color: var(--fill-color);\n",
              "    }\n",
              "    60% {\n",
              "      border-color: transparent;\n",
              "      border-right-color: var(--fill-color);\n",
              "    }\n",
              "    80% {\n",
              "      border-color: transparent;\n",
              "      border-right-color: var(--fill-color);\n",
              "      border-bottom-color: var(--fill-color);\n",
              "    }\n",
              "    90% {\n",
              "      border-color: transparent;\n",
              "      border-bottom-color: var(--fill-color);\n",
              "    }\n",
              "  }\n",
              "</style>\n",
              "\n",
              "      <script>\n",
              "        async function quickchart(key) {\n",
              "          const quickchartButtonEl =\n",
              "            document.querySelector('#' + key + ' button');\n",
              "          quickchartButtonEl.disabled = true;  // To prevent multiple clicks.\n",
              "          quickchartButtonEl.classList.add('colab-df-spinner');\n",
              "          try {\n",
              "            const charts = await google.colab.kernel.invokeFunction(\n",
              "                'suggestCharts', [key], {});\n",
              "          } catch (error) {\n",
              "            console.error('Error during call to suggestCharts:', error);\n",
              "          }\n",
              "          quickchartButtonEl.classList.remove('colab-df-spinner');\n",
              "          quickchartButtonEl.classList.add('colab-df-quickchart-complete');\n",
              "        }\n",
              "        (() => {\n",
              "          let quickchartButtonEl =\n",
              "            document.querySelector('#df-660ddd90-c01d-4236-ac43-6325fb2099cf button');\n",
              "          quickchartButtonEl.style.display =\n",
              "            google.colab.kernel.accessAllowed ? 'block' : 'none';\n",
              "        })();\n",
              "      </script>\n",
              "    </div>\n",
              "\n",
              "    </div>\n",
              "  </div>\n"
            ],
            "application/vnd.google.colaboratory.intrinsic+json": {
              "type": "dataframe",
              "variable_name": "df",
              "summary": "{\n  \"name\": \"df\",\n  \"rows\": 20800,\n  \"fields\": [\n    {\n      \"column\": \"id\",\n      \"properties\": {\n        \"dtype\": \"number\",\n        \"std\": 6004,\n        \"min\": 0,\n        \"max\": 20799,\n        \"num_unique_values\": 20800,\n        \"samples\": [\n          14649,\n          9231,\n          6473\n        ],\n        \"semantic_type\": \"\",\n        \"description\": \"\"\n      }\n    },\n    {\n      \"column\": \"title\",\n      \"properties\": {\n        \"dtype\": \"string\",\n        \"num_unique_values\": 19803,\n        \"samples\": [\n          \"Florida Republicans Voting for Hillary Clinton \\u00b7 Guardian Liberty Voice\",\n          \"\\u2018Weekend Warriors\\u2019 Show Survival Benefits - The New York Times\",\n          \"Part 6, Democratic Network Money: Commons Money that Works for Us, Instead of Us Working for It\"\n        ],\n        \"semantic_type\": \"\",\n        \"description\": \"\"\n      }\n    },\n    {\n      \"column\": \"author\",\n      \"properties\": {\n        \"dtype\": \"category\",\n        \"num_unique_values\": 4201,\n        \"samples\": [\n          \"AARGH63\",\n          \"Dave Kehr\",\n          \"Patrick Healy\"\n        ],\n        \"semantic_type\": \"\",\n        \"description\": \"\"\n      }\n    },\n    {\n      \"column\": \"text\",\n      \"properties\": {\n        \"dtype\": \"string\",\n        \"num_unique_values\": 20386,\n        \"samples\": [\n          \"Multan a un ultrasur por lanzar a un jugador del Bar\\u00e7a al campo durante el partido Madrid-Legia EL PARTIDO SE CONSIDERABA DE ALTO RIESGO PARA LOS JUGADORES DEL BARCELONA Real Madrid \\nUn jugador barcelonista golpe\\u00f3 a varios jugadores durante el encuentro de la Champions que tuvo lugar ayer entre el Real Madrid y el Legia Varsovia despu\\u00e9s de ser arrojado desde la grada por un hincha madridista. \\nEl portero del Legia, muy molesto, intent\\u00f3 devolver el jugador a las gradas de una patada y se encar\\u00f3 con los Ultrasur, que ya preparaban a otro jugador para echarlo al campo y entorpecer el encuentro. En esta ocasi\\u00f3n pretend\\u00edan prenderlo con un mechero antes de lanzarlo al c\\u00e9sped. \\nLas autoridades han vuelto a pedir a los aficionados que dejen de lanzar cosas al campo como botellas, monedas y jugadores del Barcelona. El dispositivo de seguridad no puedo hacer nada por evitar que algunos hinchas introdujeran a jugadores barcelonistas a la grada, pues los llevaban camuflados dentro de bocadillos de gran tama\\u00f1o. \\nEl partido pudo ser reanudado cuando el \\u00e1rbitro apart\\u00f3 a un rinc\\u00f3n del c\\u00e9sped al jugador barcelonista.\",\n          \"Written by Jacob G. Hornberger   As US officials continue to accuse Russia of meddling with the US presidential election, an accusation that they have provided no evidence whatsoever to support, let\\u2019s review some of the US government\\u2019s history of meddling with elections in others countries.1. In 1951, the democratically elected parliament of Iran elected a man named Mohammad Mossadegh to be Iran\\u2019s prime minister. Mossadegh angered British Empire officials by nationalizing British oil interests in the country.British officials then turned to the CIA for assistance. In 1953, the CIA secretly fomented a violent coup in Iran, which succeeded in ousting Mossadegh from power and making the Shah of Iran the supreme unelected dictator of the country.To fortify the Shah\\u2019s dictatorial hold on power, the CIA helped organize and train the his domestic police force, the Savak, which was essentially a combination of the CIA, the NSA, and the military. Part of the CIA\\u2019s training involved teaching Savak agents the art of torture.For the next 26 years, the Iranian people suffered under one of the most brutal and tyrannical dictatorships in the world, one that US officials fully supported and called an ally and friend of the United States.In 1979, Iranians successfully revolted against the Shah\\u2019s regime and ousted him from power. One result was not a restoration of the democratic system that had elected Mossadegh but rather another brutal dictatorship, this time a religious one. Another result is the bad relations between the Iran and US governments that continues to exist today.2. In 1951, the Guatemalan people democratically elected a man named Jacobo Arbenz to be their president. Arbenz, however, was not satisfactory to US officials, especially the national-security branch of the government, specifically the Pentagon and the CIA. The reason that US officials opposed Arbenz was that he was a socialist, and US officials considered a socialist president of Guatemala to be a threat to \\u201cnational security\\u201d here in the United States.In 1954 \\u2014 one year after the coup in Iran, the CIA fomented a violent military coup that succeeded in removing Arbenz from power and replacing him with one of the most brutal unelected military dictators in Latin American history, a man named Carlos Castillo Armas. The CIA had a kill list prepared for the coup, which Arbenz was able to escape by fleeing the country before Castillo was able to get him. The CIA\\u2019s destruction of Guatemala\\u2019s democratic system threw the nation into a 30-year civil war that ended up killing millions of Guatemalan people, especially many of the poor.3. In 1960 a man named Patrice Lamumba was elected Congo\\u2019s first prime minister after independence from Belgium. Lamumba spoke out against Western imperialism and refused to take sides in the Cold War, which caused the CIA to conclude that he was a threat to \\u201cnational security.\\u201d The CIA orchestrated the assassination of Lamumba, which ended up taking place on January 17, 1961, just three days before President Kennedy, who liked Lamumba and who would have ordered the CIA to stand down, was to be sworn into office.4. In 1970 a man named Salvador Allende received a plurality of votes in the presidential election in Chile. Pursuant to the Chilean constitution, the election was thrown into the national congress. President Richard Nixon, his national-security team, the Pentagon, and the CIA concluded that because Allende believed in communism and socialism, he posed a grave threat to \\u201cnational security\\u201d here in the United States. The CIA attempted to bribe members of the congress to vote against Allende. It also orchestrated the kidnapping of the head of Chile\\u2019s armed forces, Gen Rene Schneider, who opposed a US military coup in his country, especially since a coup would violate the country\\u2019s constitution. The kidnapping attempt on Schneider left him dead.The CIA then fomented a coup that took place on 9/11 1973 that violently ousted Allende from power and left him dead. Replacing him was army Gen. Augusto Pinochet, one of the most brutal unelected military dictators in history. By the time Pinochet\\u2019s 17-year reign of military terror came to an end in 1990, he and his CIA-supported goons had incarcerated, raped, tortured, or killed tens of thousands of innocent people \\u2014 that is, people whose only \\u201ccrime\\u201d was believing in socialism \\u2014 with the full support of the CIA, Pentagon, Nixon, and his \\u201cnational security\\u201d team.Of course, there are also the more recent support of regime-change operations that ousted democratically elected presidents that the US government disapproved of, such as in Ukraine and Egypt.And then there is the long list of countries where unelected dictators were targeted for regime change by the US national security state and, where successful, replaced with a brutal unelected pro-US dictator. Cuba, Indonesia, Iraq, Libya, and Syria all come to mind.US officials need to keep in mind that when they point their accusatory index finger at Russia for supposedly meddling in the US presidential election, US officials have, at the same time, three fingers pointing back at themselves. Reprinted with permission from the Future of Freedom Foundation . Related\",\n          \"When hearing of an establishment called the Black and Blue Steakhouse, one could reasonably surmise that some, or at the very least one, extremely tough person could be found somewhere in there. Well, the three terrorists who attacked London Bridge over the weekend found the Black and Blue Steakhouse, and they found the toughest man in the house. [Or, maybe more to the point, he found them.  Roy Larner, 47, is a huge fan of the South East London soccer team Millwall F. C. The team is known as the Lions, and when   terrorists entered the Black and Blue to kill innocent people, Larner let them know who is the true king of the jungle. After the terrorists entered, with obvious bad intentions, Larner sprang into action: \\u201cLike an idiot I shouted back at them. I thought, \\u2018I need to take the p*** out of these b*****s.\\u2019 \\u201cI took a few steps towards them and said, \\u2018F*** you, I\\u2019m Millwall.\\u2019 So they started attacking me. \\u201cI stood in front of them trying to fight them off. Everyone else ran to the back. I was on my own against all three of them, that\\u2019s why I got hurt so much. It was just me, trying to grab them with my bare hands and hold on. I was swinging. \\u201cI got stabbed and sliced eight times. They got me in my head, chest and both hands. There was blood everywhere. \\u201cThey were saying, \\u2018Islam, Islam!\\u2019 I said again, \\u2018F*** you, I\\u2019m Millwall!\\u2019 \\u201cIt was the worst thing I could have done as they carried on attacking me. \\u201cLuckily, none of the blows were straight at me or I\\u2019d be dead. \\u201d A petition has begun, with the aim of awarding Larner with the George Cross for bravery. The award is the second highest commendation granted by Great Britain. Looking at his scars, it\\u2019s really hard to imagine that he won\\u2019t get it. If Millwall is looking for a new slogan, they may have found it. \\u201cF*** you, I\\u2019m Millwall!\\u201d has a nice ring to it. Follow Dylan Gwinn on Twitter: @themightygwinn\"\n        ],\n        \"semantic_type\": \"\",\n        \"description\": \"\"\n      }\n    },\n    {\n      \"column\": \"label\",\n      \"properties\": {\n        \"dtype\": \"number\",\n        \"std\": 0,\n        \"min\": 0,\n        \"max\": 1,\n        \"num_unique_values\": 2,\n        \"samples\": [\n          0,\n          1\n        ],\n        \"semantic_type\": \"\",\n        \"description\": \"\"\n      }\n    }\n  ]\n}"
            }
          },
          "metadata": {},
          "execution_count": 6
        }
      ]
    },
    {
      "cell_type": "code",
      "source": [
        "# Checking number of missing values in our dataset\n",
        "df.isnull().sum()"
      ],
      "metadata": {
        "colab": {
          "base_uri": "https://localhost:8080/",
          "height": 241
        },
        "id": "OIdjloBY5ksL",
        "outputId": "7286cb2f-f5f3-4290-b456-286c83e305fb"
      },
      "execution_count": null,
      "outputs": [
        {
          "output_type": "execute_result",
          "data": {
            "text/plain": [
              "id           0\n",
              "title      558\n",
              "author    1957\n",
              "text        39\n",
              "label        0\n",
              "dtype: int64"
            ],
            "text/html": [
              "<div>\n",
              "<style scoped>\n",
              "    .dataframe tbody tr th:only-of-type {\n",
              "        vertical-align: middle;\n",
              "    }\n",
              "\n",
              "    .dataframe tbody tr th {\n",
              "        vertical-align: top;\n",
              "    }\n",
              "\n",
              "    .dataframe thead th {\n",
              "        text-align: right;\n",
              "    }\n",
              "</style>\n",
              "<table border=\"1\" class=\"dataframe\">\n",
              "  <thead>\n",
              "    <tr style=\"text-align: right;\">\n",
              "      <th></th>\n",
              "      <th>0</th>\n",
              "    </tr>\n",
              "  </thead>\n",
              "  <tbody>\n",
              "    <tr>\n",
              "      <th>id</th>\n",
              "      <td>0</td>\n",
              "    </tr>\n",
              "    <tr>\n",
              "      <th>title</th>\n",
              "      <td>558</td>\n",
              "    </tr>\n",
              "    <tr>\n",
              "      <th>author</th>\n",
              "      <td>1957</td>\n",
              "    </tr>\n",
              "    <tr>\n",
              "      <th>text</th>\n",
              "      <td>39</td>\n",
              "    </tr>\n",
              "    <tr>\n",
              "      <th>label</th>\n",
              "      <td>0</td>\n",
              "    </tr>\n",
              "  </tbody>\n",
              "</table>\n",
              "</div><br><label><b>dtype:</b> int64</label>"
            ]
          },
          "metadata": {},
          "execution_count": 7
        }
      ]
    },
    {
      "cell_type": "code",
      "source": [
        "# Replacing the null values with empty string\n",
        "df = df.fillna('')"
      ],
      "metadata": {
        "id": "EGMIzk8D5kpt"
      },
      "execution_count": null,
      "outputs": []
    },
    {
      "cell_type": "code",
      "source": [
        "# Merging the auyhor name and news title\n",
        "df['content'] = df['author'] + ' ' + df['title']"
      ],
      "metadata": {
        "id": "SPu02C0m5kab"
      },
      "execution_count": null,
      "outputs": []
    },
    {
      "cell_type": "code",
      "source": [
        "print(df['content'])"
      ],
      "metadata": {
        "colab": {
          "base_uri": "https://localhost:8080/"
        },
        "id": "Ib2kPJGAB3E6",
        "outputId": "fcccf940-7eaf-46c3-e819-d8763f22c2b8"
      },
      "execution_count": null,
      "outputs": [
        {
          "output_type": "stream",
          "name": "stdout",
          "text": [
            "0        Darrell Lucus House Dem Aide: We Didn’t Even S...\n",
            "1        Daniel J. Flynn FLYNN: Hillary Clinton, Big Wo...\n",
            "2        Consortiumnews.com Why the Truth Might Get You...\n",
            "3        Jessica Purkiss 15 Civilians Killed In Single ...\n",
            "4        Howard Portnoy Iranian woman jailed for fictio...\n",
            "                               ...                        \n",
            "20795    Jerome Hudson Rapper T.I.: Trump a ’Poster Chi...\n",
            "20796    Benjamin Hoffman N.F.L. Playoffs: Schedule, Ma...\n",
            "20797    Michael J. de la Merced and Rachel Abrams Macy...\n",
            "20798    Alex Ansary NATO, Russia To Hold Parallel Exer...\n",
            "20799              David Swanson What Keeps the F-35 Alive\n",
            "Name: content, Length: 20800, dtype: object\n"
          ]
        }
      ]
    },
    {
      "cell_type": "code",
      "source": [
        "# Separating the data and label\n",
        "X = df.drop(columns = 'label', axis = 1)\n",
        "Y = df['label']"
      ],
      "metadata": {
        "id": "jqJVWeeqB3BR"
      },
      "execution_count": null,
      "outputs": []
    },
    {
      "cell_type": "code",
      "source": [
        "X, Y"
      ],
      "metadata": {
        "colab": {
          "base_uri": "https://localhost:8080/"
        },
        "id": "-R2g5FGPB2-w",
        "outputId": "94858572-0dde-42f1-eb89-816981b6bd05"
      },
      "execution_count": null,
      "outputs": [
        {
          "output_type": "execute_result",
          "data": {
            "text/plain": [
              "(          id                                              title  \\\n",
              " 0          0  House Dem Aide: We Didn’t Even See Comey’s Let...   \n",
              " 1          1  FLYNN: Hillary Clinton, Big Woman on Campus - ...   \n",
              " 2          2                  Why the Truth Might Get You Fired   \n",
              " 3          3  15 Civilians Killed In Single US Airstrike Hav...   \n",
              " 4          4  Iranian woman jailed for fictional unpublished...   \n",
              " ...      ...                                                ...   \n",
              " 20795  20795  Rapper T.I.: Trump a ’Poster Child For White S...   \n",
              " 20796  20796  N.F.L. Playoffs: Schedule, Matchups and Odds -...   \n",
              " 20797  20797  Macy’s Is Said to Receive Takeover Approach by...   \n",
              " 20798  20798  NATO, Russia To Hold Parallel Exercises In Bal...   \n",
              " 20799  20799                          What Keeps the F-35 Alive   \n",
              " \n",
              "                                           author  \\\n",
              " 0                                  Darrell Lucus   \n",
              " 1                                Daniel J. Flynn   \n",
              " 2                             Consortiumnews.com   \n",
              " 3                                Jessica Purkiss   \n",
              " 4                                 Howard Portnoy   \n",
              " ...                                          ...   \n",
              " 20795                              Jerome Hudson   \n",
              " 20796                           Benjamin Hoffman   \n",
              " 20797  Michael J. de la Merced and Rachel Abrams   \n",
              " 20798                                Alex Ansary   \n",
              " 20799                              David Swanson   \n",
              " \n",
              "                                                     text  \\\n",
              " 0      House Dem Aide: We Didn’t Even See Comey’s Let...   \n",
              " 1      Ever get the feeling your life circles the rou...   \n",
              " 2      Why the Truth Might Get You Fired October 29, ...   \n",
              " 3      Videos 15 Civilians Killed In Single US Airstr...   \n",
              " 4      Print \\nAn Iranian woman has been sentenced to...   \n",
              " ...                                                  ...   \n",
              " 20795  Rapper T. I. unloaded on black celebrities who...   \n",
              " 20796  When the Green Bay Packers lost to the Washing...   \n",
              " 20797  The Macy’s of today grew from the union of sev...   \n",
              " 20798  NATO, Russia To Hold Parallel Exercises In Bal...   \n",
              " 20799    David Swanson is an author, activist, journa...   \n",
              " \n",
              "                                                  content  \n",
              " 0      Darrell Lucus House Dem Aide: We Didn’t Even S...  \n",
              " 1      Daniel J. Flynn FLYNN: Hillary Clinton, Big Wo...  \n",
              " 2      Consortiumnews.com Why the Truth Might Get You...  \n",
              " 3      Jessica Purkiss 15 Civilians Killed In Single ...  \n",
              " 4      Howard Portnoy Iranian woman jailed for fictio...  \n",
              " ...                                                  ...  \n",
              " 20795  Jerome Hudson Rapper T.I.: Trump a ’Poster Chi...  \n",
              " 20796  Benjamin Hoffman N.F.L. Playoffs: Schedule, Ma...  \n",
              " 20797  Michael J. de la Merced and Rachel Abrams Macy...  \n",
              " 20798  Alex Ansary NATO, Russia To Hold Parallel Exer...  \n",
              " 20799            David Swanson What Keeps the F-35 Alive  \n",
              " \n",
              " [20800 rows x 5 columns],\n",
              " 0        1\n",
              " 1        0\n",
              " 2        1\n",
              " 3        1\n",
              " 4        1\n",
              "         ..\n",
              " 20795    0\n",
              " 20796    0\n",
              " 20797    0\n",
              " 20798    1\n",
              " 20799    1\n",
              " Name: label, Length: 20800, dtype: int64)"
            ]
          },
          "metadata": {},
          "execution_count": 12
        }
      ]
    },
    {
      "cell_type": "markdown",
      "source": [
        "# 5. Stemming\n",
        "\n",
        "Stemming is the process of reducing a word to its Root word.\n",
        "\n",
        "Example: actor, actress, acting --> act"
      ],
      "metadata": {
        "id": "OqK_Tp_WB28U"
      }
    },
    {
      "cell_type": "code",
      "source": [
        "port_stem = PorterStemmer()"
      ],
      "metadata": {
        "id": "MsbfB6lYB25h"
      },
      "execution_count": null,
      "outputs": []
    },
    {
      "cell_type": "code",
      "source": [
        "def stemming(content):\n",
        "    stemmed_content = re.sub('[^a-zA-Z]', ' ', content)  # Remove everything except letters (replace digits, punctuation, etc. with spaces)\n",
        "    stemmed_content = stemmed_content.lower()            # Convert all text to lowercase for uniformity\n",
        "    stemmed_content = stemmed_content.split()            # Split the text into individual words (tokenization)\n",
        "    stemmed_content = [port_stem.stem(word) for word in stemmed_content if not word in stopwords.words('english')]\n",
        "    # Apply stemming to each word (reduce to root form) and remove common stopwords (like 'the', 'is', 'and')\n",
        "\n",
        "    stemmed_content = ' '.join(stemmed_content)          # Join the processed words back into a single string\n",
        "    return stemmed_content                               # Return the cleaned and stemmed text"
      ],
      "metadata": {
        "id": "mLqOjRKIB225"
      },
      "execution_count": null,
      "outputs": []
    },
    {
      "cell_type": "code",
      "source": [
        "df['content'] = df['content'].apply(stemming)"
      ],
      "metadata": {
        "id": "Hyt_xo4YB2pY"
      },
      "execution_count": null,
      "outputs": []
    },
    {
      "cell_type": "code",
      "source": [
        "print(df['content'])"
      ],
      "metadata": {
        "colab": {
          "base_uri": "https://localhost:8080/"
        },
        "id": "B2ScpgI8Qfp4",
        "outputId": "a22f19bb-fc8e-490a-e54c-db55f9b73661"
      },
      "execution_count": null,
      "outputs": [
        {
          "output_type": "stream",
          "name": "stdout",
          "text": [
            "0        darrel lucu hous dem aid even see comey letter...\n",
            "1        daniel j flynn flynn hillari clinton big woman...\n",
            "2                   consortiumnew com truth might get fire\n",
            "3        jessica purkiss civilian kill singl us airstri...\n",
            "4        howard portnoy iranian woman jail fiction unpu...\n",
            "                               ...                        \n",
            "20795    jerom hudson rapper trump poster child white s...\n",
            "20796    benjamin hoffman n f l playoff schedul matchup...\n",
            "20797    michael j de la merc rachel abram maci said re...\n",
            "20798    alex ansari nato russia hold parallel exercis ...\n",
            "20799                            david swanson keep f aliv\n",
            "Name: content, Length: 20800, dtype: object\n"
          ]
        }
      ]
    },
    {
      "cell_type": "code",
      "source": [
        "# Separating the data and label\n",
        "X = df['content'].values\n",
        "Y = df['label'].values"
      ],
      "metadata": {
        "id": "qF3mEV2dQ24i"
      },
      "execution_count": null,
      "outputs": []
    },
    {
      "cell_type": "code",
      "source": [
        "X, Y"
      ],
      "metadata": {
        "colab": {
          "base_uri": "https://localhost:8080/"
        },
        "id": "OQHGnAmtRGT2",
        "outputId": "19e593ff-d51d-45a4-9eba-c22d12fe914a"
      },
      "execution_count": null,
      "outputs": [
        {
          "output_type": "execute_result",
          "data": {
            "text/plain": [
              "(array(['darrel lucu hous dem aid even see comey letter jason chaffetz tweet',\n",
              "        'daniel j flynn flynn hillari clinton big woman campu breitbart',\n",
              "        'consortiumnew com truth might get fire', ...,\n",
              "        'michael j de la merc rachel abram maci said receiv takeov approach hudson bay new york time',\n",
              "        'alex ansari nato russia hold parallel exercis balkan',\n",
              "        'david swanson keep f aliv'], dtype=object),\n",
              " array([1, 0, 1, ..., 0, 1, 1]))"
            ]
          },
          "metadata": {},
          "execution_count": 18
        }
      ]
    },
    {
      "cell_type": "code",
      "source": [
        "Y.shape"
      ],
      "metadata": {
        "colab": {
          "base_uri": "https://localhost:8080/"
        },
        "id": "WDjV2_RNRGRM",
        "outputId": "7bb97b1f-d469-4f17-c4a2-019a6d0c00dc"
      },
      "execution_count": null,
      "outputs": [
        {
          "output_type": "execute_result",
          "data": {
            "text/plain": [
              "(20800,)"
            ]
          },
          "metadata": {},
          "execution_count": 19
        }
      ]
    },
    {
      "cell_type": "code",
      "source": [
        "# Converting the textual data into numerical data\n",
        "\n",
        "vectorizer = TfidfVectorizer()      # Create a TF-IDF vectorizer object to convert text into numerical feature vectors\n",
        "vectorizer.fit(X)                   # Learn the vocabulary and IDF values from the dataset X (training text data)\n",
        "X = vectorizer.transform(X)         # Transform the text data X into a sparse matrix of TF-IDF numerical features"
      ],
      "metadata": {
        "id": "QTd8EhciRGOp"
      },
      "execution_count": null,
      "outputs": []
    },
    {
      "cell_type": "code",
      "source": [
        "print(X)"
      ],
      "metadata": {
        "colab": {
          "base_uri": "https://localhost:8080/"
        },
        "id": "bz4QO26uRGMJ",
        "outputId": "6c0c59f8-6d3f-49c3-fd8b-5d2dd5bbb7ce"
      },
      "execution_count": null,
      "outputs": [
        {
          "output_type": "stream",
          "name": "stdout",
          "text": [
            "<Compressed Sparse Row sparse matrix of dtype 'float64'\n",
            "\twith 210687 stored elements and shape (20800, 17128)>\n",
            "  Coords\tValues\n",
            "  (0, 267)\t0.2701012497770876\n",
            "  (0, 2483)\t0.36765196867972083\n",
            "  (0, 2959)\t0.24684501285337127\n",
            "  (0, 3600)\t0.3598939188262558\n",
            "  (0, 3792)\t0.27053324808454915\n",
            "  (0, 4973)\t0.23331696690935097\n",
            "  (0, 7005)\t0.2187416908935914\n",
            "  (0, 7692)\t0.24785219520671598\n",
            "  (0, 8630)\t0.2921251408704368\n",
            "  (0, 8909)\t0.36359638063260746\n",
            "  (0, 13473)\t0.2565896679337956\n",
            "  (0, 15686)\t0.2848506356272864\n",
            "  (1, 1497)\t0.2939891562094648\n",
            "  (1, 1894)\t0.15521974226349364\n",
            "  (1, 2223)\t0.3827320386859759\n",
            "  (1, 2813)\t0.19094574062359204\n",
            "  (1, 3568)\t0.26373768806048464\n",
            "  (1, 5503)\t0.7143299355715573\n",
            "  (1, 6816)\t0.1904660198296849\n",
            "  (1, 16799)\t0.30071745655510157\n",
            "  (2, 2943)\t0.3179886800654691\n",
            "  (2, 3103)\t0.46097489583229645\n",
            "  (2, 5389)\t0.3866530551182615\n",
            "  (2, 5968)\t0.3474613386728292\n",
            "  (2, 9620)\t0.49351492943649944\n",
            "  :\t:\n",
            "  (20797, 3643)\t0.2115550061362374\n",
            "  (20797, 7042)\t0.21799048897828685\n",
            "  (20797, 8364)\t0.22322585870464115\n",
            "  (20797, 8988)\t0.36160868928090795\n",
            "  (20797, 9518)\t0.29542040034203126\n",
            "  (20797, 9588)\t0.17455348025522197\n",
            "  (20797, 10306)\t0.08038079000566466\n",
            "  (20797, 12138)\t0.24778257724396505\n",
            "  (20797, 12344)\t0.27263457663336677\n",
            "  (20797, 13122)\t0.24825263521976057\n",
            "  (20797, 14967)\t0.3115945315488075\n",
            "  (20797, 15295)\t0.08159261204402356\n",
            "  (20797, 16996)\t0.08315655906109998\n",
            "  (20798, 350)\t0.2844693781907258\n",
            "  (20798, 588)\t0.3112141524638974\n",
            "  (20798, 1125)\t0.4460515589182237\n",
            "  (20798, 5032)\t0.40837014502395297\n",
            "  (20798, 6889)\t0.3249628569429943\n",
            "  (20798, 10177)\t0.31924963701870285\n",
            "  (20798, 11052)\t0.4460515589182237\n",
            "  (20798, 13046)\t0.2236326748827061\n",
            "  (20799, 377)\t0.5677577267055112\n",
            "  (20799, 3623)\t0.37927626273066584\n",
            "  (20799, 8036)\t0.45983893273780013\n",
            "  (20799, 14852)\t0.5677577267055112\n"
          ]
        }
      ]
    },
    {
      "cell_type": "markdown",
      "source": [
        "# 6. Splitting the dataset to training and test data"
      ],
      "metadata": {
        "id": "DOGhWrALRGJu"
      }
    },
    {
      "cell_type": "code",
      "source": [
        "# Splitting our data\n",
        "X_train, X_test, Y_train, Y_test = train_test_split(X, Y, test_size = 0.2, stratify = Y, random_state = 2)"
      ],
      "metadata": {
        "id": "dHz7xxfMRGG8"
      },
      "execution_count": null,
      "outputs": []
    },
    {
      "cell_type": "markdown",
      "source": [
        "# 7. Training Our Model: Logistic Regression\n",
        "\n",
        "![image.png](data:image/png;base64,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)"
      ],
      "metadata": {
        "id": "48h1tlWDRGEu"
      }
    },
    {
      "cell_type": "code",
      "source": [
        "model = LogisticRegression()\n",
        "model.fit(X_train, Y_train)"
      ],
      "metadata": {
        "colab": {
          "base_uri": "https://localhost:8080/",
          "height": 80
        },
        "id": "nmlm_C4cRF9l",
        "outputId": "9f3f8f25-91a6-43a3-b998-995b3ab994bd"
      },
      "execution_count": null,
      "outputs": [
        {
          "output_type": "execute_result",
          "data": {
            "text/plain": [
              "LogisticRegression()"
            ],
            "text/html": [
              "<style>#sk-container-id-1 {\n",
              "  /* Definition of color scheme common for light and dark mode */\n",
              "  --sklearn-color-text: #000;\n",
              "  --sklearn-color-text-muted: #666;\n",
              "  --sklearn-color-line: gray;\n",
              "  /* Definition of color scheme for unfitted estimators */\n",
              "  --sklearn-color-unfitted-level-0: #fff5e6;\n",
              "  --sklearn-color-unfitted-level-1: #f6e4d2;\n",
              "  --sklearn-color-unfitted-level-2: #ffe0b3;\n",
              "  --sklearn-color-unfitted-level-3: chocolate;\n",
              "  /* Definition of color scheme for fitted estimators */\n",
              "  --sklearn-color-fitted-level-0: #f0f8ff;\n",
              "  --sklearn-color-fitted-level-1: #d4ebff;\n",
              "  --sklearn-color-fitted-level-2: #b3dbfd;\n",
              "  --sklearn-color-fitted-level-3: cornflowerblue;\n",
              "\n",
              "  /* Specific color for light theme */\n",
              "  --sklearn-color-text-on-default-background: var(--sg-text-color, var(--theme-code-foreground, var(--jp-content-font-color1, black)));\n",
              "  --sklearn-color-background: var(--sg-background-color, var(--theme-background, var(--jp-layout-color0, white)));\n",
              "  --sklearn-color-border-box: var(--sg-text-color, var(--theme-code-foreground, var(--jp-content-font-color1, black)));\n",
              "  --sklearn-color-icon: #696969;\n",
              "\n",
              "  @media (prefers-color-scheme: dark) {\n",
              "    /* Redefinition of color scheme for dark theme */\n",
              "    --sklearn-color-text-on-default-background: var(--sg-text-color, var(--theme-code-foreground, var(--jp-content-font-color1, white)));\n",
              "    --sklearn-color-background: var(--sg-background-color, var(--theme-background, var(--jp-layout-color0, #111)));\n",
              "    --sklearn-color-border-box: var(--sg-text-color, var(--theme-code-foreground, var(--jp-content-font-color1, white)));\n",
              "    --sklearn-color-icon: #878787;\n",
              "  }\n",
              "}\n",
              "\n",
              "#sk-container-id-1 {\n",
              "  color: var(--sklearn-color-text);\n",
              "}\n",
              "\n",
              "#sk-container-id-1 pre {\n",
              "  padding: 0;\n",
              "}\n",
              "\n",
              "#sk-container-id-1 input.sk-hidden--visually {\n",
              "  border: 0;\n",
              "  clip: rect(1px 1px 1px 1px);\n",
              "  clip: rect(1px, 1px, 1px, 1px);\n",
              "  height: 1px;\n",
              "  margin: -1px;\n",
              "  overflow: hidden;\n",
              "  padding: 0;\n",
              "  position: absolute;\n",
              "  width: 1px;\n",
              "}\n",
              "\n",
              "#sk-container-id-1 div.sk-dashed-wrapped {\n",
              "  border: 1px dashed var(--sklearn-color-line);\n",
              "  margin: 0 0.4em 0.5em 0.4em;\n",
              "  box-sizing: border-box;\n",
              "  padding-bottom: 0.4em;\n",
              "  background-color: var(--sklearn-color-background);\n",
              "}\n",
              "\n",
              "#sk-container-id-1 div.sk-container {\n",
              "  /* jupyter's `normalize.less` sets `[hidden] { display: none; }`\n",
              "     but bootstrap.min.css set `[hidden] { display: none !important; }`\n",
              "     so we also need the `!important` here to be able to override the\n",
              "     default hidden behavior on the sphinx rendered scikit-learn.org.\n",
              "     See: https://github.com/scikit-learn/scikit-learn/issues/21755 */\n",
              "  display: inline-block !important;\n",
              "  position: relative;\n",
              "}\n",
              "\n",
              "#sk-container-id-1 div.sk-text-repr-fallback {\n",
              "  display: none;\n",
              "}\n",
              "\n",
              "div.sk-parallel-item,\n",
              "div.sk-serial,\n",
              "div.sk-item {\n",
              "  /* draw centered vertical line to link estimators */\n",
              "  background-image: linear-gradient(var(--sklearn-color-text-on-default-background), var(--sklearn-color-text-on-default-background));\n",
              "  background-size: 2px 100%;\n",
              "  background-repeat: no-repeat;\n",
              "  background-position: center center;\n",
              "}\n",
              "\n",
              "/* Parallel-specific style estimator block */\n",
              "\n",
              "#sk-container-id-1 div.sk-parallel-item::after {\n",
              "  content: \"\";\n",
              "  width: 100%;\n",
              "  border-bottom: 2px solid var(--sklearn-color-text-on-default-background);\n",
              "  flex-grow: 1;\n",
              "}\n",
              "\n",
              "#sk-container-id-1 div.sk-parallel {\n",
              "  display: flex;\n",
              "  align-items: stretch;\n",
              "  justify-content: center;\n",
              "  background-color: var(--sklearn-color-background);\n",
              "  position: relative;\n",
              "}\n",
              "\n",
              "#sk-container-id-1 div.sk-parallel-item {\n",
              "  display: flex;\n",
              "  flex-direction: column;\n",
              "}\n",
              "\n",
              "#sk-container-id-1 div.sk-parallel-item:first-child::after {\n",
              "  align-self: flex-end;\n",
              "  width: 50%;\n",
              "}\n",
              "\n",
              "#sk-container-id-1 div.sk-parallel-item:last-child::after {\n",
              "  align-self: flex-start;\n",
              "  width: 50%;\n",
              "}\n",
              "\n",
              "#sk-container-id-1 div.sk-parallel-item:only-child::after {\n",
              "  width: 0;\n",
              "}\n",
              "\n",
              "/* Serial-specific style estimator block */\n",
              "\n",
              "#sk-container-id-1 div.sk-serial {\n",
              "  display: flex;\n",
              "  flex-direction: column;\n",
              "  align-items: center;\n",
              "  background-color: var(--sklearn-color-background);\n",
              "  padding-right: 1em;\n",
              "  padding-left: 1em;\n",
              "}\n",
              "\n",
              "\n",
              "/* Toggleable style: style used for estimator/Pipeline/ColumnTransformer box that is\n",
              "clickable and can be expanded/collapsed.\n",
              "- Pipeline and ColumnTransformer use this feature and define the default style\n",
              "- Estimators will overwrite some part of the style using the `sk-estimator` class\n",
              "*/\n",
              "\n",
              "/* Pipeline and ColumnTransformer style (default) */\n",
              "\n",
              "#sk-container-id-1 div.sk-toggleable {\n",
              "  /* Default theme specific background. It is overwritten whether we have a\n",
              "  specific estimator or a Pipeline/ColumnTransformer */\n",
              "  background-color: var(--sklearn-color-background);\n",
              "}\n",
              "\n",
              "/* Toggleable label */\n",
              "#sk-container-id-1 label.sk-toggleable__label {\n",
              "  cursor: pointer;\n",
              "  display: flex;\n",
              "  width: 100%;\n",
              "  margin-bottom: 0;\n",
              "  padding: 0.5em;\n",
              "  box-sizing: border-box;\n",
              "  text-align: center;\n",
              "  align-items: start;\n",
              "  justify-content: space-between;\n",
              "  gap: 0.5em;\n",
              "}\n",
              "\n",
              "#sk-container-id-1 label.sk-toggleable__label .caption {\n",
              "  font-size: 0.6rem;\n",
              "  font-weight: lighter;\n",
              "  color: var(--sklearn-color-text-muted);\n",
              "}\n",
              "\n",
              "#sk-container-id-1 label.sk-toggleable__label-arrow:before {\n",
              "  /* Arrow on the left of the label */\n",
              "  content: \"▸\";\n",
              "  float: left;\n",
              "  margin-right: 0.25em;\n",
              "  color: var(--sklearn-color-icon);\n",
              "}\n",
              "\n",
              "#sk-container-id-1 label.sk-toggleable__label-arrow:hover:before {\n",
              "  color: var(--sklearn-color-text);\n",
              "}\n",
              "\n",
              "/* Toggleable content - dropdown */\n",
              "\n",
              "#sk-container-id-1 div.sk-toggleable__content {\n",
              "  max-height: 0;\n",
              "  max-width: 0;\n",
              "  overflow: hidden;\n",
              "  text-align: left;\n",
              "  /* unfitted */\n",
              "  background-color: var(--sklearn-color-unfitted-level-0);\n",
              "}\n",
              "\n",
              "#sk-container-id-1 div.sk-toggleable__content.fitted {\n",
              "  /* fitted */\n",
              "  background-color: var(--sklearn-color-fitted-level-0);\n",
              "}\n",
              "\n",
              "#sk-container-id-1 div.sk-toggleable__content pre {\n",
              "  margin: 0.2em;\n",
              "  border-radius: 0.25em;\n",
              "  color: var(--sklearn-color-text);\n",
              "  /* unfitted */\n",
              "  background-color: var(--sklearn-color-unfitted-level-0);\n",
              "}\n",
              "\n",
              "#sk-container-id-1 div.sk-toggleable__content.fitted pre {\n",
              "  /* unfitted */\n",
              "  background-color: var(--sklearn-color-fitted-level-0);\n",
              "}\n",
              "\n",
              "#sk-container-id-1 input.sk-toggleable__control:checked~div.sk-toggleable__content {\n",
              "  /* Expand drop-down */\n",
              "  max-height: 200px;\n",
              "  max-width: 100%;\n",
              "  overflow: auto;\n",
              "}\n",
              "\n",
              "#sk-container-id-1 input.sk-toggleable__control:checked~label.sk-toggleable__label-arrow:before {\n",
              "  content: \"▾\";\n",
              "}\n",
              "\n",
              "/* Pipeline/ColumnTransformer-specific style */\n",
              "\n",
              "#sk-container-id-1 div.sk-label input.sk-toggleable__control:checked~label.sk-toggleable__label {\n",
              "  color: var(--sklearn-color-text);\n",
              "  background-color: var(--sklearn-color-unfitted-level-2);\n",
              "}\n",
              "\n",
              "#sk-container-id-1 div.sk-label.fitted input.sk-toggleable__control:checked~label.sk-toggleable__label {\n",
              "  background-color: var(--sklearn-color-fitted-level-2);\n",
              "}\n",
              "\n",
              "/* Estimator-specific style */\n",
              "\n",
              "/* Colorize estimator box */\n",
              "#sk-container-id-1 div.sk-estimator input.sk-toggleable__control:checked~label.sk-toggleable__label {\n",
              "  /* unfitted */\n",
              "  background-color: var(--sklearn-color-unfitted-level-2);\n",
              "}\n",
              "\n",
              "#sk-container-id-1 div.sk-estimator.fitted input.sk-toggleable__control:checked~label.sk-toggleable__label {\n",
              "  /* fitted */\n",
              "  background-color: var(--sklearn-color-fitted-level-2);\n",
              "}\n",
              "\n",
              "#sk-container-id-1 div.sk-label label.sk-toggleable__label,\n",
              "#sk-container-id-1 div.sk-label label {\n",
              "  /* The background is the default theme color */\n",
              "  color: var(--sklearn-color-text-on-default-background);\n",
              "}\n",
              "\n",
              "/* On hover, darken the color of the background */\n",
              "#sk-container-id-1 div.sk-label:hover label.sk-toggleable__label {\n",
              "  color: var(--sklearn-color-text);\n",
              "  background-color: var(--sklearn-color-unfitted-level-2);\n",
              "}\n",
              "\n",
              "/* Label box, darken color on hover, fitted */\n",
              "#sk-container-id-1 div.sk-label.fitted:hover label.sk-toggleable__label.fitted {\n",
              "  color: var(--sklearn-color-text);\n",
              "  background-color: var(--sklearn-color-fitted-level-2);\n",
              "}\n",
              "\n",
              "/* Estimator label */\n",
              "\n",
              "#sk-container-id-1 div.sk-label label {\n",
              "  font-family: monospace;\n",
              "  font-weight: bold;\n",
              "  display: inline-block;\n",
              "  line-height: 1.2em;\n",
              "}\n",
              "\n",
              "#sk-container-id-1 div.sk-label-container {\n",
              "  text-align: center;\n",
              "}\n",
              "\n",
              "/* Estimator-specific */\n",
              "#sk-container-id-1 div.sk-estimator {\n",
              "  font-family: monospace;\n",
              "  border: 1px dotted var(--sklearn-color-border-box);\n",
              "  border-radius: 0.25em;\n",
              "  box-sizing: border-box;\n",
              "  margin-bottom: 0.5em;\n",
              "  /* unfitted */\n",
              "  background-color: var(--sklearn-color-unfitted-level-0);\n",
              "}\n",
              "\n",
              "#sk-container-id-1 div.sk-estimator.fitted {\n",
              "  /* fitted */\n",
              "  background-color: var(--sklearn-color-fitted-level-0);\n",
              "}\n",
              "\n",
              "/* on hover */\n",
              "#sk-container-id-1 div.sk-estimator:hover {\n",
              "  /* unfitted */\n",
              "  background-color: var(--sklearn-color-unfitted-level-2);\n",
              "}\n",
              "\n",
              "#sk-container-id-1 div.sk-estimator.fitted:hover {\n",
              "  /* fitted */\n",
              "  background-color: var(--sklearn-color-fitted-level-2);\n",
              "}\n",
              "\n",
              "/* Specification for estimator info (e.g. \"i\" and \"?\") */\n",
              "\n",
              "/* Common style for \"i\" and \"?\" */\n",
              "\n",
              ".sk-estimator-doc-link,\n",
              "a:link.sk-estimator-doc-link,\n",
              "a:visited.sk-estimator-doc-link {\n",
              "  float: right;\n",
              "  font-size: smaller;\n",
              "  line-height: 1em;\n",
              "  font-family: monospace;\n",
              "  background-color: var(--sklearn-color-background);\n",
              "  border-radius: 1em;\n",
              "  height: 1em;\n",
              "  width: 1em;\n",
              "  text-decoration: none !important;\n",
              "  margin-left: 0.5em;\n",
              "  text-align: center;\n",
              "  /* unfitted */\n",
              "  border: var(--sklearn-color-unfitted-level-1) 1pt solid;\n",
              "  color: var(--sklearn-color-unfitted-level-1);\n",
              "}\n",
              "\n",
              ".sk-estimator-doc-link.fitted,\n",
              "a:link.sk-estimator-doc-link.fitted,\n",
              "a:visited.sk-estimator-doc-link.fitted {\n",
              "  /* fitted */\n",
              "  border: var(--sklearn-color-fitted-level-1) 1pt solid;\n",
              "  color: var(--sklearn-color-fitted-level-1);\n",
              "}\n",
              "\n",
              "/* On hover */\n",
              "div.sk-estimator:hover .sk-estimator-doc-link:hover,\n",
              ".sk-estimator-doc-link:hover,\n",
              "div.sk-label-container:hover .sk-estimator-doc-link:hover,\n",
              ".sk-estimator-doc-link:hover {\n",
              "  /* unfitted */\n",
              "  background-color: var(--sklearn-color-unfitted-level-3);\n",
              "  color: var(--sklearn-color-background);\n",
              "  text-decoration: none;\n",
              "}\n",
              "\n",
              "div.sk-estimator.fitted:hover .sk-estimator-doc-link.fitted:hover,\n",
              ".sk-estimator-doc-link.fitted:hover,\n",
              "div.sk-label-container:hover .sk-estimator-doc-link.fitted:hover,\n",
              ".sk-estimator-doc-link.fitted:hover {\n",
              "  /* fitted */\n",
              "  background-color: var(--sklearn-color-fitted-level-3);\n",
              "  color: var(--sklearn-color-background);\n",
              "  text-decoration: none;\n",
              "}\n",
              "\n",
              "/* Span, style for the box shown on hovering the info icon */\n",
              ".sk-estimator-doc-link span {\n",
              "  display: none;\n",
              "  z-index: 9999;\n",
              "  position: relative;\n",
              "  font-weight: normal;\n",
              "  right: .2ex;\n",
              "  padding: .5ex;\n",
              "  margin: .5ex;\n",
              "  width: min-content;\n",
              "  min-width: 20ex;\n",
              "  max-width: 50ex;\n",
              "  color: var(--sklearn-color-text);\n",
              "  box-shadow: 2pt 2pt 4pt #999;\n",
              "  /* unfitted */\n",
              "  background: var(--sklearn-color-unfitted-level-0);\n",
              "  border: .5pt solid var(--sklearn-color-unfitted-level-3);\n",
              "}\n",
              "\n",
              ".sk-estimator-doc-link.fitted span {\n",
              "  /* fitted */\n",
              "  background: var(--sklearn-color-fitted-level-0);\n",
              "  border: var(--sklearn-color-fitted-level-3);\n",
              "}\n",
              "\n",
              ".sk-estimator-doc-link:hover span {\n",
              "  display: block;\n",
              "}\n",
              "\n",
              "/* \"?\"-specific style due to the `<a>` HTML tag */\n",
              "\n",
              "#sk-container-id-1 a.estimator_doc_link {\n",
              "  float: right;\n",
              "  font-size: 1rem;\n",
              "  line-height: 1em;\n",
              "  font-family: monospace;\n",
              "  background-color: var(--sklearn-color-background);\n",
              "  border-radius: 1rem;\n",
              "  height: 1rem;\n",
              "  width: 1rem;\n",
              "  text-decoration: none;\n",
              "  /* unfitted */\n",
              "  color: var(--sklearn-color-unfitted-level-1);\n",
              "  border: var(--sklearn-color-unfitted-level-1) 1pt solid;\n",
              "}\n",
              "\n",
              "#sk-container-id-1 a.estimator_doc_link.fitted {\n",
              "  /* fitted */\n",
              "  border: var(--sklearn-color-fitted-level-1) 1pt solid;\n",
              "  color: var(--sklearn-color-fitted-level-1);\n",
              "}\n",
              "\n",
              "/* On hover */\n",
              "#sk-container-id-1 a.estimator_doc_link:hover {\n",
              "  /* unfitted */\n",
              "  background-color: var(--sklearn-color-unfitted-level-3);\n",
              "  color: var(--sklearn-color-background);\n",
              "  text-decoration: none;\n",
              "}\n",
              "\n",
              "#sk-container-id-1 a.estimator_doc_link.fitted:hover {\n",
              "  /* fitted */\n",
              "  background-color: var(--sklearn-color-fitted-level-3);\n",
              "}\n",
              "</style><div id=\"sk-container-id-1\" class=\"sk-top-container\"><div class=\"sk-text-repr-fallback\"><pre>LogisticRegression()</pre><b>In a Jupyter environment, please rerun this cell to show the HTML representation or trust the notebook. <br />On GitHub, the HTML representation is unable to render, please try loading this page with nbviewer.org.</b></div><div class=\"sk-container\" hidden><div class=\"sk-item\"><div class=\"sk-estimator fitted sk-toggleable\"><input class=\"sk-toggleable__control sk-hidden--visually\" id=\"sk-estimator-id-1\" type=\"checkbox\" checked><label for=\"sk-estimator-id-1\" class=\"sk-toggleable__label fitted sk-toggleable__label-arrow\"><div><div>LogisticRegression</div></div><div><a class=\"sk-estimator-doc-link fitted\" rel=\"noreferrer\" target=\"_blank\" href=\"https://scikit-learn.org/1.6/modules/generated/sklearn.linear_model.LogisticRegression.html\">?<span>Documentation for LogisticRegression</span></a><span class=\"sk-estimator-doc-link fitted\">i<span>Fitted</span></span></div></label><div class=\"sk-toggleable__content fitted\"><pre>LogisticRegression()</pre></div> </div></div></div></div>"
            ]
          },
          "metadata": {},
          "execution_count": 23
        }
      ]
    },
    {
      "cell_type": "markdown",
      "source": [
        "# 8. Evaluation\n",
        "\n",
        "\n",
        "Accuracy Score"
      ],
      "metadata": {
        "id": "H44lx9HDRFhh"
      }
    },
    {
      "cell_type": "code",
      "source": [
        "# Accuracy score on the training data\n",
        "X_train_prediction = model.predict(X_train)\n",
        "training_data_accuracy = accuracy_score(X_train_prediction, Y_train)"
      ],
      "metadata": {
        "id": "gGRK4fMIVqaC"
      },
      "execution_count": null,
      "outputs": []
    },
    {
      "cell_type": "code",
      "source": [
        "print(f'Accuracy on training data : {training_data_accuracy * 100:.2f}%')"
      ],
      "metadata": {
        "colab": {
          "base_uri": "https://localhost:8080/"
        },
        "id": "MXoYGYP3VqS4",
        "outputId": "e29681f2-285f-4780-d5ae-60f449434d33"
      },
      "execution_count": null,
      "outputs": [
        {
          "output_type": "stream",
          "name": "stdout",
          "text": [
            "Accuracy on training data : 98.64%\n"
          ]
        }
      ]
    },
    {
      "cell_type": "code",
      "source": [
        "# Accuracy score on the test data\n",
        "X_test_prediction = model.predict(X_test)\n",
        "test_data_accuracy = accuracy_score(X_test_prediction, Y_test)"
      ],
      "metadata": {
        "id": "spo9ksktVqMW"
      },
      "execution_count": null,
      "outputs": []
    },
    {
      "cell_type": "code",
      "source": [
        "print(f'Accuracy on test data : {test_data_accuracy * 100:.2f}%')"
      ],
      "metadata": {
        "colab": {
          "base_uri": "https://localhost:8080/"
        },
        "id": "JY-qZOKGVqJg",
        "outputId": "66aa808b-1aa7-4dfa-b5cf-948b23523bb3"
      },
      "execution_count": null,
      "outputs": [
        {
          "output_type": "stream",
          "name": "stdout",
          "text": [
            "Accuracy on test data : 97.91%\n"
          ]
        }
      ]
    },
    {
      "cell_type": "markdown",
      "source": [
        "# 9. Making a predictive system"
      ],
      "metadata": {
        "id": "BYqV0HO3VqG4"
      }
    },
    {
      "cell_type": "code",
      "source": [
        "X_new = X_test[3]\n",
        "\n",
        "prediction = model.predict(X_new)\n",
        "print(prediction)\n",
        "\n",
        "if prediction[0] == 0:\n",
        "    print('The news is Real')\n",
        "else:\n",
        "    print('The news is fake')"
      ],
      "metadata": {
        "colab": {
          "base_uri": "https://localhost:8080/"
        },
        "id": "3BL5E6aaVqEE",
        "outputId": "1ccde54f-cd26-40c5-e195-0974e6cc4ea9"
      },
      "execution_count": null,
      "outputs": [
        {
          "output_type": "stream",
          "name": "stdout",
          "text": [
            "[0]\n",
            "The news is Real\n"
          ]
        }
      ]
    },
    {
      "cell_type": "code",
      "source": [
        "print(Y_test[3])"
      ],
      "metadata": {
        "colab": {
          "base_uri": "https://localhost:8080/"
        },
        "id": "9NGczUcDVqBM",
        "outputId": "23e2fb48-b2a1-46b3-875c-5b2e67c1d62d"
      },
      "execution_count": null,
      "outputs": [
        {
          "output_type": "stream",
          "name": "stdout",
          "text": [
            "0\n"
          ]
        }
      ]
    },
    {
      "cell_type": "code",
      "source": [],
      "metadata": {
        "id": "ANxCl9BFhQ7N"
      },
      "execution_count": null,
      "outputs": []
    }
  ]
}